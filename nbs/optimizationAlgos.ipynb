{
 "cells": [
  {
   "cell_type": "code",
   "execution_count": 1,
   "metadata": {
    "collapsed": true
   },
   "outputs": [],
   "source": [
    "%matplotlib inline\n",
    "import math,sys,os,numpy as np\n",
    "from numpy.random import random\n",
    "from matplotlib import pyplot as plt, rcParams, animation, rc\n",
    "from ipywidgets import interact, interactive, fixed\n",
    "from ipywidgets.widgets import *\n",
    "rc('animation', html='html5')\n",
    "rcParams['figure.figsize'] = 3, 3\n",
    "%precision 4\n",
    "np.set_printoptions(precision=4, linewidth=100)"
   ]
  },
  {
   "cell_type": "code",
   "execution_count": 2,
   "metadata": {
    "collapsed": true
   },
   "outputs": [],
   "source": [
    "def lin(a, b, x):\n",
    "    return a * x + b"
   ]
  },
  {
   "cell_type": "code",
   "execution_count": 3,
   "metadata": {
    "collapsed": true
   },
   "outputs": [],
   "source": [
    "a = 3\n",
    "b = 8\n",
    "n = 30"
   ]
  },
  {
   "cell_type": "code",
   "execution_count": 4,
   "metadata": {
    "collapsed": true
   },
   "outputs": [],
   "source": [
    "x = random(n)\n",
    "y = lin(a,b,x)"
   ]
  },
  {
   "cell_type": "code",
   "execution_count": 5,
   "metadata": {},
   "outputs": [
    {
     "data": {
      "image/png": "[encoded data removed]",
      "text/plain": [
       "<matplotlib.figure.Figure at 0x7f49704a3f10>"
      ]
     },
     "metadata": {},
     "output_type": "display_data"
    }
   ],
   "source": [
    "plt.scatter(x,y)\n",
    "plt.show()"
   ]
  },
  {
   "cell_type": "code",
   "execution_count": 6,
   "metadata": {
    "collapsed": true
   },
   "outputs": [],
   "source": [
    "def sse(y, y_pred):\n",
    "    return np.sqrt((y-y_pred)**2).sum()"
   ]
  },
  {
   "cell_type": "code",
   "execution_count": 7,
   "metadata": {
    "collapsed": true
   },
   "outputs": [],
   "source": [
    "def loss(y,a,b,x):\n",
    "    y_pred = lin(a,b,x)\n",
    "    loss = sse(y,y_pred)\n",
    "    return loss"
   ]
  },
  {
   "cell_type": "code",
   "execution_count": 8,
   "metadata": {
    "collapsed": true
   },
   "outputs": [],
   "source": [
    "def avg_loss(y,a,b,x):\n",
    "    return np.sqrt(loss(y,a,b,x)/n)"
   ]
  },
  {
   "cell_type": "code",
   "execution_count": 9,
   "metadata": {
    "collapsed": true
   },
   "outputs": [],
   "source": [
    "a_guess = 1\n",
    "b_guess = 2"
   ]
  },
  {
   "cell_type": "code",
   "execution_count": 10,
   "metadata": {},
   "outputs": [
    {
     "data": {
      "text/plain": [
       "2.6915"
      ]
     },
     "execution_count": 10,
     "metadata": {},
     "output_type": "execute_result"
    }
   ],
   "source": [
    "avg_loss(y,a_guess,b_guess,x)"
   ]
  },
  {
   "cell_type": "code",
   "execution_count": 11,
   "metadata": {
    "collapsed": true
   },
   "outputs": [],
   "source": [
    "lr = 0.01"
   ]
  },
  {
   "cell_type": "code",
   "execution_count": 12,
   "metadata": {
    "collapsed": true
   },
   "outputs": [],
   "source": [
    "def update():\n",
    "    global a_guess,b_guess\n",
    "    y_pred = lin(a_guess,b_guess,x)\n",
    "    dlossdb = 2 * (y_pred - y)\n",
    "    dlossda = x * dlossdb\n",
    "    a_guess -= lr * dlossda.mean()\n",
    "    b_guess -= lr * dlossdb.mean()"
   ]
  },
  {
   "cell_type": "code",
   "execution_count": 13,
   "metadata": {
    "collapsed": true
   },
   "outputs": [],
   "source": [
    "# for i in range(10):\n",
    "#     update()"
   ]
  },
  {
   "cell_type": "code",
   "execution_count": 14,
   "metadata": {
    "collapsed": true
   },
   "outputs": [],
   "source": [
    "# print a_guess,b_guess"
   ]
  },
  {
   "cell_type": "code",
   "execution_count": 15,
   "metadata": {
    "collapsed": true
   },
   "outputs": [],
   "source": [
    "fig = plt.figure(dpi=100,figsize=(5,4))\n",
    "plt.scatter(x,y)\n",
    "line, = plt.plot(x,lin(a_guess,b_guess,x))\n",
    "# plt.show()\n",
    "plt.close()\n",
    "\n",
    "def animate(i):\n",
    "    line.set_ydata(lin(a_guess,b_guess,x))\n",
    "    for i in range(10):\n",
    "        update()\n",
    "    return line,"
   ]
  },
  {
   "cell_type": "code",
   "execution_count": 16,
   "metadata": {},
   "outputs": [
    {
     "data": {
      "text/html": [
       "<video width=\"500.0\" height=\"400.0\" controls autoplay loop>\n",
       "  <source type=\"video/mp4\" src=\"data:video/mp4;base64,AAAAHGZ0eXBNNFYgAAACAGlzb21pc28yYXZjMQAAAAhmcmVlAABpa21kYXQAAAKuBgX//6rcRem9\n",
       "5tlIt5Ys2CDZI+7veDI2NCAtIGNvcmUgMTQ4IHIyNjQzIDVjNjU3MDQgLSBILjI2NC9NUEVHLTQg\n",
       "QVZDIGNvZGVjIC0gQ29weWxlZnQgMjAwMy0yMDE1IC0gaHR0cDovL3d3dy52aWRlb2xhbi5vcmcv\n",
       "eDI2NC5odG1sIC0gb3B0aW9uczogY2FiYWM9MSByZWY9MyBkZWJsb2NrPTE6MDowIGFuYWx5c2U9\n",
       "MHgzOjB4MTEzIG1lPWhleCBzdWJtZT03IHBzeT0xIHBzeV9yZD0xLjAwOjAuMDAgbWl4ZWRfcmVm\n",
       "PTEgbWVfcmFuZ2U9MTYgY2hyb21hX21lPTEgdHJlbGxpcz0xIDh4OGRjdD0xIGNxbT0wIGRlYWR6\n",
       "b25lPTIxLDExIGZhc3RfcHNraXA9MSBjaHJvbWFfcXBfb2Zmc2V0PS0yIHRocmVhZHM9NiBsb29r\n",
       "YWhlYWRfdGhyZWFkcz0xIHNsaWNlZF90aHJlYWRzPTAgbnI9MCBkZWNpbWF0ZT0xIGludGVybGFj\n",
       "ZWQ9MCBibHVyYXlfY29tcGF0PTAgY29uc3RyYWluZWRfaW50cmE9MCBiZnJhbWVzPTMgYl9weXJh\n",
       "bWlkPTIgYl9hZGFwdD0xIGJfYmlhcz0wIGRpcmVjdD0xIHdlaWdodGI9MSBvcGVuX2dvcD0wIHdl\n",
       "aWdodHA9MiBrZXlpbnQ9MjUwIGtleWludF9taW49MTAgc2NlbmVjdXQ9NDAgaW50cmFfcmVmcmVz\n",
       "aD0wIHJjX2xvb2thaGVhZD00MCByYz1jcmYgbWJ0cmVlPTEgY3JmPTIzLjAgcWNvbXA9MC42MCBx\n",
       "cG1pbj0wIHFwbWF4PTY5IHFwc3RlcD00IGlwX3JhdGlvPTEuNDAgYXE9MToxLjAwAIAAABbuZYiE\n",
       "AD///vdonwKbWkN6gOSVxSXbT4H/q2dwfI/pAwAAAwAAAwAkAvzHv6EHQzQgAABRkkpUkmIiRmAh\n",
       "sP+ebxUt65SzxgV5BtAtfEw+/RTgAd48X43c8vDOKyJ16Rb4I57ikspKAdLwEk640y9hTBSnOt2G\n",
       "9BfCLxxHiE8R2vxbFfhlHsSYn/lgrj+csSHqPXWFIiuVSUakG23Sd4x/QuzaiGTNOsTcfHtp1c0F\n",
       "8d5p56QHO2NCvcPN3PdVxHR9zDztCTRMa1cvsz0Wia9wbxWyPEkl1uYb9aBB4/tU5poFCuvHShco\n",
       "3a7c7om17M/ZBYmhyGs/8BlPYlj+qRFYdaSTehJPmDjiNfYwYYgZ0OgKg0IAb4umbOLxknLQxTYF\n",
       "sSqVunUY+4X0GOrZsIi4nhgefZFUZzuxtJYaqN+zLpU7mwtjyb6nqWJAiTgPxV1llZ0kBl6id5mo\n",
       "A9/8l5+5eBgRhPqanzIWhiXlS4fjCKvL64NEn9DfqXGhLX6P/joX9XVqsAaRSecfWtb4QNGayaMw\n",
       "eHbpNVCE8fWdeD2JhNhKfx9ynuuvSBlvyz95nVr21+w22NEXoUpgf6ZaT+sHMAAadAmU4kMiTR6t\n",
       "eDWeGbZUUQP5kTBgL+JyZN6a89XaZEqXJnAwNndaAABzY7y7npV1fGgU6UQKJXo3233qje+/ei7F\n",
       "sniJ+qDlVdpKA0W/4+qbbCfhBqm5kp+oG7/RI+Z/6UgmVB3dLEc3k8NK5KibhCCxIBOdrs4V4uCz\n",
       "a9/pfnoFbXamehxVJnvvWCZhjHNiOA3tmdNUPnwjwuUdcip+Yng5fQsXsYMnvR7/IDayNZxDCcPq\n",
       "b9KiFVZ32n6ytLa0Ua9hfiZstCpnxVwbVw7fZyse+1fh7vVEfT2ksWV0y7+XdHlIwm3xdijLI3VJ\n",
       "mPiKra5aeJPqASuQOODVjKNcjVCV3+eu+65h8ig7mGfT3xFMmkm4wiyzf9kxp5FXkdQ6Fb6x8gc1\n",
       "fji5xrWfaDBnWO89dU6EopxjeEo+OLw4SNlRNSKP+eWgKUMh4iUyA3xvojbFw6P+T9vq4LpfeSgJ\n",
       "4+GFno8iiOuKkMjE17ZsrRM6zOX7sTDrVH2/RMn8DJDh2lJPnpCq6zVKUF4h1qqKYPe/thU748AE\n",
       "/8mMJsq5e1pcu3JsAEfAP354u8itMZGPdKmZUS+h8BkWItK1rlO3S0+JUjJzLmTM+863TQAWwfF4\n",
       "+vGGsheV20uCDAnRsLPCkHuDd/CcoJLrXGzL4gmBOhw8vYfocIpRj7ElvoTFP/KpSygHOTQDhomF\n",
       "1r6yYJd2s9r+JO1AAAvHJPDvmHsy053Lkc6ws173kTZGPfSPsZu/hIQ5Rvi6UJul1xy0zVy2/fr5\n",
       "XqTNsNBNgsepNL/jd/PuH5F/cHd05DTm5WinjDaOtrRON0Osb3QAe7NnE4eK6OwxfTSu5azLmlM1\n",
       "rA58Rjl3i4bYkM5KC/77QEiCxF2QFxONfbzVM4cbUM2lKrhwbjyz3ncZAEjZKoZtFdIjSXgnnglQ\n",
       "x9inoMRdGwqvVr14RNxdnlHtVUHO0iXAgoWv8jDcU5jGrgK7wiot9CPO/e66n17LEx5zuC4z2mI1\n",
       "mkA9jfmRds1nHXeEmsBRaSGqB5B8cG1FcIBGvE727Ljv4YqOU/fZmTUIc9kx2ylLya7bJFu1H3bL\n",
       "7iV+t/LUzqt87IGy4lF5RuSsJzHpV4mxCwty3a1uhI/7w/4nfS+6ScuMSfGWXJcnH5/7sdSCTveV\n",
       "7gKAoCl2YNGyCGfbYDxwvjAUJURwAT586EgYH6CyvEbDFEa1YEEx6coY5oER9r7owLR3MWPI5NNx\n",
       "6Ix19RiI7Z0vhvLQn3gX5t8AfNswcuAqeJ50C5wu/FZiwE4JthiAYGJE5CurrHWOe+ldGSNrjwLn\n",
       "BJ7zmGALO3kx6GjUf6y6Dpp0L9Oj6QLIwJtUs6amaPhcBHvB+y6LkJ/K7PDjyJJykpZFsBGjK6GK\n",
       "KsOw9FsJiXWkf2pm5jITSeN+gqgL2hcpL/EsDjljakiCKhUgHbtLcPVktD0lyymk1bND9gcKwEkg\n",
       "xvE8rjSRlKkgDjrM3L8MVHO5XuCF3hpX5ZcHN85Btc7CzaILFlD5ssTiJ/CnKwEyzc8WTeoI1R6V\n",
       "b0SHewDcqYBgTrD2h2AwSmCkZ8w15EF+bQ8HOt0QroUjL6wvaXjbsbgGvzkU5syuUBSbHM+5Q1QI\n",
       "9Bd3hqB+y6kMEvAbhOXuGZP5wpqfRYDWGGdkzbA9wbg36/neHEn1gttNCGxJrpcYc+B7EgPp6lOj\n",
       "i76SOSsrIKeimmQ/85hN5aPGegmXaizbysnzvk2iIz5Y5xZNxLTyt6VrWZHAvrO0C9Fn8wXyWHZY\n",
       "WaipLqAdzH43pSq3s4PWeiCnQzbw09mfWwuK3dv8joSPDnXg5lFutKRnRvZ33Cr0nqNISN4FliMg\n",
       "XXC0ukMPboNk35zWdD95PuYoucJDsdtZ7JW/rc0H4do1f9YA+4cXKF9u9Xqe8VsYBDoOlRO9UMLZ\n",
       "4+s+/jSC3njQ2aB/FENdNpqQUsquQpP2xnHmiMRX7+wxI+21vqT3EYmzAJeTOVSrfHkVIoTJn76w\n",
       "zB5M0meIM1ZGwiQen+mPcZwQ+AkaKhS5L8jPgWTNtNGOHAMKBbW9Q18m2H2F1+Y7Diewlc8UiueU\n",
       "d72d1oQZCRQjaOKN+GFRdPKho/JrGvSsSY7UOI0K3VMursgSwwnFh1sr2zeX9miqj9p0AS+hzs1y\n",
       "BdGt6mDIUDiV3zCg1Mh+2yg1s2I0tadwAP9i8f9bbMPsFVE/qR5tnPh1XNuBSD1/ZQI+kKIr1L1Q\n",
       "iv0AHCtwBEdWc3iUjAvSBFgIog3gRELz9rw3O+kazzR7rnD/vQFF+hqzOavmyJdpodXfuRaGpz3X\n",
       "y9UlF5s3tMSNnsfc7YwPu3aYo0OkesffYFEbQT5lJTROCLx1yJMMyUEXevYce5n/ci2zV3gspJpP\n",
       "KCcBAgKLN9EE6iuOIBfXRi7nByPJbjloaNZiZJsulTtNvzrPCp/vqce39wVTS2/hNs2fpk6aWHS/\n",
       "ZOOoHeTxMfmBiw8hcbe1mq8I6RG0CyvlSBvYmftDHKthkiE3AzAOGy2Lg4yg91MWI9T+rrdmuHRo\n",
       "5v/zGqJPDVW9d9TODYFXzExY/tdVY+X882v/g5QeVSKTW3dvlO34kK682uLum4t9GKlpeI0WmlJi\n",
       "Ae/8DBtaTzkitABtTPhNq9/yl2ydL9sAA7rZRoHYak2VEsvCYAxLW4eWFiIClno5NeSdVM57iLO9\n",
       "2b9ds2b21LdNeaH1CzDPJTK+avQh4J08HBfQap1k6XbzAOWKhIvhkA1vAzUToMzGd+SNdYNGw3fv\n",
       "XSj5/WX20eoU+ToqH4kds7jBXCmgcjIbv6qQidhWV7XJHoUM+2e1MTeMpvfwpV9pgN6Guk/YtESB\n",
       "Y/Fij6OyA6htP9O5/j2SVpCRpt4zAthQ9gsZm7vqI15bbMO4h722++FM7bnNUAmhvsO/0wQPedE3\n",
       "G8hYVFavXHIqr1TEdIQbka/y68m5nOV7soXZzHTKGRfF6J7M2RvznvTtveZmCeGnAtfP04BKYbo8\n",
       "xFqT/BHysDth79eyh5RdiTb1C0dVaJEAkbIOlsF6gwWJIhY9bHV5NvF+H1oJnG/AuIofgF27m+FF\n",
       "7nA5uRmGUTsAI+l9W4ghDj5yUyVT3prlzGWS+kL32zNcoqo3PxMWNSJQidRfZa7zDRdik+vBgqmY\n",
       "Spdw/TYRckbqX/fBbduDwARnnabzj//+eGlxvxpcRthq+Hvx4dS/HZDf6togSJExr+J9/tkhjV7V\n",
       "aIawRgNGeFa3iZugga20zp4N0dSDKy7sgrp7M7G2OkfjWoiVuWSy4L8cdzLKUCHlQFw6rftpoMFb\n",
       "zzdrC9TCvoLXoNj6Dp1XOVo2x1MyTReH0s3u3emmXjTKQqoYG25eizcImossOzSOwBH4PIUBTL/m\n",
       "D3HRfncbQvtjB+LHLJLb7n/DagWHvrvgTLR2MRggoIcruqFZ1kXQJ40fDJcaK4t/Fw6+yvupvzuB\n",
       "E0f4Aa0qjSCP+7+3WgiAEX4QHNcl5GIIyRgdUcKr4AZYaWb3/+KLW/ZCBZpCRTXW/o+uEB+UpxG4\n",
       "FnR2VxCKv9TttMu7gpLw0mov0EgNZhuV00swYWOiLbBKWpo1qO5Dhyl2gSh562ru3P2Xph4coJyS\n",
       "yrD+zo0TMUVU79dVbZq0eMRjAZYrTnMC2sjaUaj0bcZuY2gTMSVDWV1sGu9uIwubkX/PTB1J+stv\n",
       "FAEdSZQHUQ/xMt7zFBGVDyTNbsvUyR4yHeELCMICKdskX6f0P4VNan8txm0T/tz7XmMBxfr1ZozE\n",
       "JqTz/zPGMlR+B2Un3OEXw3eysIIou1QVK/dokgI9RtqeCF+x0vkJOQf2+N/8pxNIVYodQRhrNKoT\n",
       "V0akJwlaEVahBRLrCVXFMvEKNNKNjyR9yVwisTwN1kYO/3F2U4E0YgZsQB25PO4vwu2EadvEWmMG\n",
       "CAoLP1BHvv+/G6Up2NCB0hEVou2WxzE4BPJEjx9M4ExM3g/SHDf51q5iBOGwyGeFpB8Z8XA1NbYp\n",
       "cUqf/oND5w52SIiffGHhIOu7vuX/+jHRMP8nMG6OBfWX9BkhH76Cxn9gHW0OsSzb/u5tl3+huS9r\n",
       "JKQLW4gtZ2aHEck38k6Tn8flhfbXJ4Y48exZglabueJzZWTEJyO2b4TyFet63X8K8PbNFU56ObaY\n",
       "bKbq/P+9qauPESGyy6bBB7xYJPkTN2uNqp3L3L1KIRKo1t+JuNMWx8HSVY6f7F1Q2iGPq/ruQZFn\n",
       "qg0r0WzrO4vsgqfgz+2EUOAMCekH//vej1ZCTkvSM3VOhJsmn9yqczFGz9TKJi7+nJuQj07RlypO\n",
       "1R2p9bXiJ+AZBl8/YB68i/uWzJAzJccuEElZRmwa5r6FQefiyZtlh1TbyGmmYnGMS7iqvXhf7lzc\n",
       "UI3tC0RXJWJ7DgTKSPNSSyLlnuuhobt+Q/F39uVgnPDpOmt+oraRdBRm3vMsxdZo4MB5/manCn2W\n",
       "UfKGC+GLodZiUkpvB2CW9gE9Syl69ThMm6K7J2Y98QW3YckCZFzfYAKSdzCapjfVpRi2QP2CpdkV\n",
       "Y7sajsK80z1KDMrsKP+R1sM5OW6+V70FxnuIyYbYxSBqAB+0cpN496qMsdKFu+CP3vn8leJNMcWE\n",
       "c45gP8wCygmad6PkI6TY/dv4WhleHYOLP+6O4XbcNWy1anMpk5SA0CNjwGrcnPU3gp4dy3+r7tj4\n",
       "VRgakay+1TurPU54YSYWhmcDqhBUHFgB4+44LDX/iEqxzl6I/pKjpmKBbIayuKDMwsNAx7OoeJLj\n",
       "2YQO/+086gKrZhq66Ahy1B7KXp/scP+JbBb3QzKhz9JopyCVBT1GcCKxQHjFjp8Ov6yAalx6oanl\n",
       "lkZ1wAAAfBPRWHSBGd8zsL8pfn3Jvjisdd+K29N6xK5xCVHnmcUfK5TU5bEYibh18zPJhKFDV9MF\n",
       "cXRA7f4Zer7nW/c0jSofNRxM9bDqRfKrMaxizH2zOEebkqwl+aN2ocSHpEB3Vp8zcZzhJ7M0DdBO\n",
       "W67LTdlvMcebgAYtYqXKrQuvD1moS2oVehvic4NYLa7hyvBYkBiey7T5jYBTkU6+v7Dhg9izAVh8\n",
       "A+OTSM7iO/07StEaWrd6Yi8L4miDpOsMZWa2n3HMXKbYC5iLVJ5/hevgduiwAi3V3+F1h7hbA8/Y\n",
       "MBZOKRiRCSGwb6vnCOpEryCmjjavqEb0nwspt9ou8wny2Eh6LMayho41gSTsKVZ1qXpqtSis7N7T\n",
       "I8awZbcwu2nMs3BLF8cHFbIlIJiG2lJDodFUd2Rmr4+5pg3f6ASzYW/k3CgzKMEJSTcq508IMJqe\n",
       "RPf/A26o/mwAYbQKGtIUrCsglJdCFqGJE9BVo6/P7AZcGJbeezlQmYEIGX6fviel13PD7NdxRjZN\n",
       "V123tNrNx4U+EqXuBa4iiocE5SJ//uISG9TFUYEYrejckzVK9YXImH4e4cdVgXnFdYmvAk7ti1Im\n",
       "yqYeWutn/qUbLUhmLvR7YZOFwD5MU1lZS0wO0ooQhEtm5g3mscdhTsOiJZ/dVlQ35dqU98LgHX93\n",
       "GGB1RQf/8E+i1+RpR0U8nSYzqKYHKhmgavkRiWg4EgQOxjU+oMgta6dwg8+uj/+khedOXQLBHvoK\n",
       "Z+1QfgH4Sxm2qfVYJVQycAulYgRSMPYVt8duveUSWOchnCJ6sBksb8nH7w2+Vok7M2llRDJoahfN\n",
       "SRsL7AExwunwmcSRdIwPV77DayIwLkw7wBvQc8MxtbmsEonBohOfScH/8mnRcIBufjtleTFPGr8C\n",
       "0IQcN10bK2JsBXRtS0cF8OCYjifi2HgjmUEctS22exR5cv64LaQDSRq8VZ0RpOm3T+Q89ZsWMkCq\n",
       "Ea+Yga4vsefPMjAw48aARC7AQhEBFPsa0stlATuQXcSfvJECd0SYfh5Shqmr93FsVAP8xbvZN2XZ\n",
       "nc22FphrRDZiFVaXme7XbQZfdVqMN6q4jEbwUdTSDWh6QcQ35PUV0R/8PayoxavhwkxoB5F9n+kY\n",
       "xVNfgfuCIBSCOnIcfw9y5LjNfDLfJ/8tSAhMo6BxMC5jVcFtOct9jjqriCwforcA2bDhMNvDukHg\n",
       "CNtK16sJwsxM7XL7CnVBkAKnMiEzkWiJFfKXsuJAhLaX2VPm0yaNimm7IdKycqaI3Wx455l6kQoS\n",
       "eTokGmNNqUHHpgrdNE/nHgoN04ZXBP6qPZdwtftl4ga2pZr9jX9Og6S/+d0/2BeVMYTmv9Z5Ikf+\n",
       "IErHBw5tfeHMx7V57LqPhWFN+9LPbgCf656qs9w4k419/fkq/hPQBjh0MUuCwodFy1YaQpIznQWm\n",
       "zB9Ce03pvCMOf8OuaBdQZxqUI9OYw1l9pllDL1frX2kHt+yz1Qr39tsYaYChYcVSNzq/y1CIS2sI\n",
       "+sdUbmC44M0hli8K5iJ+9mbZ15yA4UJ7xrk8VDt/Uj6G4gH/l5zceCZbXA8Lzd1aaRadGsDFfdOa\n",
       "t3oyE7DlkH9J7JELk3Yni9RUxfy9Hug6RUPGCYI+MAjki98MfDWo/5sSRWQOqkOQ5SNHglneOT+1\n",
       "8GbxirAN3ViSgIkyDedHDHTgpeAjQocF3p/TIt4722/pcnSGvG84pW+fV8rxZkpuYMBBBGHZuuQW\n",
       "1a65acHpXD6mkRrPm8Zd+S5YeOq/VFC2tLhqI76FPCOB3YHfMURELHJ5vR0T/MLVuOd+OqPLwcYm\n",
       "BDk41Zo48lU+s3IZ9UlvilvrF1FQ2UDLpwUQU+R3Phycpok9c6i0rfYbb8s1vlM1Mt0SdyerMsJ0\n",
       "i2dAcFB4uB49x6p8PLPhC5XLYAqv5UJeshdIu0xi1RElCgNIuL/NMXhbOULZf8HzH25XxW+mx1FW\n",
       "9KBZ0BwpAAKUCl9LjJmsER6mxRYzgDCDvVmTHyQ9wErWuYlWIIqXK0YJDUVNyCmM+IjapDTTQAwH\n",
       "I/GtnCbOScelxkQXvjHgyvM6V418UJthwZ5EPh7aORRqDOA87bpfLxMRgokkUPswVu7FdSpSLHaK\n",
       "IqoNrpOKVfTaH5vfQI8imp1mXu9/9Ymkk7jRfCFhf7R296ok/Icx2RcEx6NDPHe2K9uSfmJBFKoS\n",
       "cMZw15v0KE7PmzSDb+Ej3K40FIALBb5cCkV2i4vaO+6HZOPpVuyVTUd1+UkLP6xaltRYE+wKbSss\n",
       "J/dBHuibX9TGGyD2DfUPNFDWW84JHvKjZ9Deh3YUwoKNnSM/PkWGICoLDzAAKAxL/mWexmUQoE7K\n",
       "PRTL+ZzYWl0FYUR9jCVO97unMzkZzjyZJk0KlLMdG7X6AAAKGcoLEU1vAipptwpEelcAFtEAAAYe\n",
       "QZohbEP//qmWAHdXy8BBKpO2ChXvfsp9kOtX11l/b/VK/UUYtxk06AA04KX4w29MOl3z65BDZTZM\n",
       "hJc+Ks/nXSAtOWocHuCow9j37IIJzGfZ46mEKv+OZpkTUuH7PBiXhJyHzfOZu9lxfRyHhuvctq1A\n",
       "N9rfw+hG7k+RYofM//eCCbMPBvE42qeQagvCxBY03xf1gV9hsRUej4IZduG3AYVw7B+0TyCcoHXi\n",
       "A+p/OCvliNAoXEbNB1/vn5/suJ4Rodoniu85O4dxnlO65ez3esaKxpJWTCeb7RjTkS0b9dnzJ/7V\n",
       "8ghwGwRk2V50DV2dkD4vSJeoKYN3RD+quDZW9u2nyIbrxKQOS7o4VuBD4nxUIXQAxIAUOscI+Hak\n",
       "wFdN1ZNIyRtc1zv937uPND4bamGwu+25NSS/Nkm6c4ABrsjpvIMrny/tSkI4oiPXh8T+yiwxwF0Y\n",
       "TvUY/G597KkEt/fqBuQYvbjRn3rEastARbtf/GdK9NTin0Cu8SSy7Jp9YLa0/3hrX34J8NcBF6zO\n",
       "bixkQtA/Rz2glbuVT1Ehzvd2dOUIw7gk2bmJwY6p0XNgzwP+q2fZVlWkuzm4XV0aXOWTUfHqmF5W\n",
       "q2rMQFI5t9R2MoSJ9Xub45iJqupmytcYLiroG0EdpJ21uPJ2+mzuF1mMfs1qwzluLrfMBF+o3UnA\n",
       "hmLhyr7l6FNe6zhrC2RQU6l+l23wv86FChcCeB9XjccZMO9XB1p5q//Mz2b5H4U/hfkFniHibhO5\n",
       "M9Wq8f6B2HpcKdgVBdACYIKKx1HpUnvvK6LK0MoMKwqv+qRmwjtSEgvNEsvgMAoO1pJfU4QX6ESU\n",
       "k/iUz7ZrZ9t6aCT/ljUBw5Qqc+MC7bVglZQ7DwkQRSBvEZqONqFqXTSjyUG0iD+tuPB4npw2hIeS\n",
       "E92C5hF5QLktTbehgq1hz1ONdXrR9jWBJ2+HtMROgx7d1aXGc9cu6pwnnvEQhXAa3v1MSN/Pf6uj\n",
       "inE8ZwLP/MwMZyTip/6QVF3A2qtOZ0EAEiZO83bu9dq918GQzTQFE0XuSb2sFH4ozew2oNa1D2fR\n",
       "1O9eK27Hf6RcgiMxgymMZ1ts4v9L7M7HF2u/fbJyHSjoj4fPJWsR1pz6BfT4UYQ8x/zxLSJ58Na6\n",
       "WuZe7dRp/nNg045SRJj13tyvqCvSsHIbIBBzOipvITFQRfvVijdKEqy2TozEOyTyiRyo1/lNv0mC\n",
       "UlMuGv4w42p9oF8Ub3+9ui1Dk07La8SxOomKKbqfs3RWf1bJKlGGoLD7LdHEZ5KOt2jbou+P6UFd\n",
       "5mQe+7j+kIWKtPQFk8Mjsv2XtYSgTLhIXlSahLmBG/IzoeIzy38z720U8eOjX3J6qpUK9AEZiFwm\n",
       "v8/TWJue8HjnZptyQW0NWMJ5t+lIpl2EgEeRAdj2jjjnGKxGWyQjq0jpNseEPiSX5DmPvQtVenql\n",
       "0aAffcQzNkdLZaVYskb4dCl0iST1rtNiFlWd323QiXMrOwRbmnpiOCWIZfR4xvASl8eOJvvxo/tu\n",
       "oP6L49vZM3Il2d5bLMUuBcrNH7Q5zxqH0f7uNAY+gsfp6/pUQsFzfMGH5ehMwXwCd5ApIMDTZjq3\n",
       "KAuA/zPj8dxum2eUu9DAixrtqiQDduaEhGXDIIY9whwXS2BLz18bwDQDyMGjWRqB8Zan7uQSfFPL\n",
       "eKrkZVIykT2Y2VgcMyR8LaQdDJy1pQ28X9AqEXRUWw0AA84WdK+N9M0XlbabonAEsP48zjVq8+r7\n",
       "9lfJrEl3p/MtDfrzBZhuksBXYOWCsGVR7ZCSMql5B2o+Akm3j1816L+WmRKfgn9lRlv0z2cttFvu\n",
       "zHP5n5AZkROzqK036t2vPFQ7XyyUzEg2DaUGrNS/+P+AMSg2pTcAdYuzzx8eKVh+fBMDAClnyCxf\n",
       "GHH59AvlRAMba/t7+65LpCrlsuJuVm1PZS6/zfPyjSyvDZj9VhmEkEHUioqArOdR6hrG3iYNgfri\n",
       "8KhXK3Xb2Kn1qqwLuE6+9c9yAkVGmotwAMBbjLjptUspdF3pl5ynbTJcgoNSeN7PjMbb46TQ+zBO\n",
       "57FbvbqE1hdq0b/wPilrrfd/9qGlmCrf+QgYAAAGLEGaQjwhkymEP//+qZYAAFm4W/DayNoAS1dl\n",
       "edmaNsQf0ygYsVS3Pg0zmL9BvDnq2blHl8wlOJkA/BkhH6BrinUVLPeaBvcBHklieASIenUJS8Xw\n",
       "AiEASQsEWJNNrywzWE/0km2Q2IKo9dMwO21G+XmeWENeS5o5euecKsHzAvpFDmkTisb67UsLxTtn\n",
       "niRpHz2NzYqFEymiRAejrHXjTJsSW+uXpJLSPxmMgYImQi/C97cozSv1owmaPRIym6l73Nopr0ra\n",
       "Xyhh2Q4KKCrrvbHjsYkw+I4F9Zu1PRVwmw6/va2gBAhFSgBpDCR8MtAEYeLjH1WoY+0Dbxsx+g4f\n",
       "ssBuiiF+xCJgCZaetgjBgxiCvG12n3wnRcSfjum6IwwegLDgbE0gt1qUJfZVI1JzixHwPYun53xH\n",
       "gyDUlqydQRQPN69skuSqXe2CQMv8Lvzb0EJ64nWlERYBxmbzXDDVPqmSjiXn9LDBjP4BJHBb6BEH\n",
       "bNuMaQ7CUakxQ4IldYBCFtBaZLSmxGDVLhslYVKyt4olvqO6zQg+zae8PjQ/wdC3hW+gSEZAW4WR\n",
       "9EIzsoclwfGKdDYGGPWOfXqYDdNih18mCdbGDm1xOkgd7HxsHbvA7rhFjNXtBdL2ksp4dZ2HNqgh\n",
       "kMndoT6KD/4FCmaf79YGh0ulIKei9Hm6nabELbZprEVQaZktazaro/NC1yjECeLKvnyF4uoR9UwW\n",
       "vWoJw+0dIcl6B1Tjq+3T9A0X8EPRbGPeKU5yP/mk8UXVCuKEpb+L3fvISBSXDyPObfrgIXahiL4M\n",
       "IvB7GWU+jGg+hs/bBeCJU6Wgbn1oFX/GgBmfy7GLfAhVB1tj4C0/vl9z52friZ9I4APfIMrZNfUy\n",
       "wEOSWiTpQmjahNsz/ZRhYvF3X8dt8voUZvxO0FKE09sLa1jnvDfc8OrYfoXIXQ9S/8pb2XnTtlls\n",
       "8YvbJAO6JJk2j5kMchsXfJP7Dz0Tsdju9M/jrlpPT3xDdsbyfXc5BcKA3eJeK2UjkL7m2eOh7ISe\n",
       "QK6sk8jKMs98V8in90wLQZTBJIxWsdOO75z1tI4sqVzTiGaXF2pMfN682q3sRB9NRdnbWvYCj/cN\n",
       "q9qKjvfOwwXOlid9QU/3LRSzyKgcdmZw6JV/8Y8iYMTxeQf7cWoRyAtpVFW+phaPM4tfnZAEqlcB\n",
       "roFCWqCGIAslpb5w4q7veZmRml6imI9HvK8pRuZEOFwxaMdzNVrqtLwAS/XhqaY/+m18NB4mhHYQ\n",
       "EQHm1Qx846Ba3vAeM18UoZM/4UTj/jG00/MGBbWQ/scGVMyyYFxc2LfR0rHEFm+7/iDQdzH6bbuD\n",
       "koF6kN/MBgngpLCnO+5M2AabfwFaT/oFejTj8GHi8pOf1Ig8tgKCi+Wa8OpgTkEge+mOltHSfc7s\n",
       "W2frzsC8AySDeJVW1vZgOWKJgLlxBbmHgO8P7v+f1cIgRTLX3HSAfS0DEmbwzPQ94tFGkbcp98dv\n",
       "nx6in+ReulXUWeT2Bt3wIbDSo644JyDvQIzNCLV3m95RhQWeLRz2woISfkcrC2i5m0IpW70f/W/k\n",
       "2Ie3lDkDEmJkOq//fyXqORCjZ0SCt2fFIsPd7+wVmAydlhmQWsEIaQ9K3RGF7T5al2Mc2uulb9OQ\n",
       "fu5VZP7HgpFC/qsA5Yb5qRvFct3ZUqYy1vhQ3fbQ+Z4JVA+V/nGAu1QgfoXdqvFwy7x51oIyQKjl\n",
       "9hP+dRnSIpdC3GCf6JOiX5tfyTf6XyYsSbw1eDoPm8G70Mko53vvkMhGtpf9I6rk8MmpsAv37oip\n",
       "MO5BBRbX85F1TVAEvb/zFRFpDxZAWMN1/W9L2EQEJ4db2Bs9D+oU0AzqVKSqn34DqiWBwni4NNU1\n",
       "bRCyVAUFqvuML1Q+OM3aJnmxIxsBh0zkeStrNHoK51Zz9ojLscg0KpCgaHPQNYDQ49fOgQm5MJTB\n",
       "+Go6legIgJaWor/ouy/opN52xcQDIEWTc/Nxm0Vhfy5Dka2nq/PnkFCtZ87jgZNZynysp6TTe0rL\n",
       "ow5j9BdS0vSP8FNWfezlLZYqjgiOgR0i+nMbY+IJ2UnlBs9KdcBF+3YdM2VVR6P+Wts4Bt8lDZY8\n",
       "vEaISaRadPMfB2jD10LBAAAEOEGaY0nhDyZTAgh//qpVAABvtpfwjmBAAOzR8lSOwgWWQxpVjy/k\n",
       "jHGL0w3+mt8LiNAIvWXJxLZThOjYmCsVnqF5pptd27sgCB0hJ3TF8mBeZ+UvWO2ofgm55ODPP+L1\n",
       "Ue+TMIophKT2RoWhSBNuR3PaR3mPTFZZ8YLOiJz9Y2jPY1Ojk4J8fgihZ9cJDNYk7ddnViarCSUW\n",
       "82rb7DrGk7kKpzdT2ey2fhmBN8GFAIKssGn7vzesCaC4gp6asodv+Lowlnx8g+a8wIo1GZHhoXyM\n",
       "c8ize9hc1IJSTRmumji/0ZOX24gDvoN8MdP+WhPU6DGKR+efm+F7wkqe6lnz9hXPiV5ipIr0BRcF\n",
       "jgfZnJUdOczK5Ay5UdScq7EAPFAH/DSlcrE0ExMJN1qFydK20X3sv/7i2pMziC5SXbD8c1avp2Kw\n",
       "UxjkSOYPGxVMy0P4oXCOjT5MKkUsT+7vPWuVbq2QC1WIahceu6GM6ALbdvjmUBYAxxR/AKzZ3U6d\n",
       "g3fZNoIiqV624a8bTyInSmHoT5dfQWTZYaFiWQgT5dANQxNed8AUjmgGS5q5AYIpWTn2GleCUMdz\n",
       "tu3LL8SUViRQzr2bipzmkztn9zcpuh8FbxrHkDpfodTH0Co+UjoxrbJKoNXo+TjH+i7X28nR979z\n",
       "DHLkJnpIJ+YqP6xxy3JvbQSMYMwa5HKFL5x/Yj2ehX00tynqAuVvTX7vv1yh6t3doufMYIfiyh7L\n",
       "qSJYaVNmSBi7aSX2w7ngk1/EbdwTy/vs6FHWh12AgMkH1W4LE0yRov4oUV/MqL8rMXUisRgNZ76w\n",
       "0tH7gnUUMbMAGjnuIbDogaCFiZiJOYItX9gGjuEZRi9XQNNQAkIKPP6hXY4+D9vksMs2nkjNrafJ\n",
       "xPsACxnXWMZe/xRSCrgvpNja9ZXVPwI/GRY/TfBiTYbkdtVYvwllJwySWkzIYZeR6dXzCI9pPa6a\n",
       "flaN3pUblOhu96P8DuIKZAyjFh5JAAwAH6lDrSzy6QQa2Xt0wJJFoTU9ja4uqchQNwT70RvLT9pj\n",
       "k0Fi5t7PzO/FhVaCOjkmNyQh0sliel4e5a+tanpsmFbSHXuIrMzVPG1/5zUjNQRht5xe3JFRgfDi\n",
       "Ka2egvwW/DwrwiieQz472VoBQWk53g4Dv1NACvgKDGmfrCHWgNnaKkDppwmRF7PL1unManDzqd9w\n",
       "eoElVcGlkebNwWSyb4M0Lpaw61krzFOKpcoOezcM/gcFxu/GkzTPBt/S16nGIgZ9nPsJVhk51h01\n",
       "MrCY8Bcgs2NGh9NRAew1H4zjepNw/GUIVBgvPyN7h3NdP/QkEp2ca5/VYtxM1PcpWi/pkq+qH5co\n",
       "XRhURJrx3Mqd/8BPAuMaO+K4o+DgQ8CFv0nL7BOyTndZqjMvn/yzn69fh2NJC4AzNPvASHIi/cCK\n",
       "FAmqK/PgpVm5oaQWZyzrgAAAArdBmoRJ4Q8mUwIIf/6qVQAA+u0v4QNwgAGi22YNkRDPO1K8wg16\n",
       "2wfMV35aMo/0STrr74NH/vs8eEGO31mKCj4hBr0RwrC53HxenQEx3hg9jq2SyPV/Zc2EgGIcHWSf\n",
       "21GKbzWyzX1zmBXJXskmKydoa/k5F7e9vQPnozud8FOMLes/VhM9WT7RRR4zj2Er4N+WQ11CMULe\n",
       "rC1cywh2rPKryz+Edb0ZiCgOpx6id+ok+JqnL+Lq2AOm1mRgDbcecw8cmHbqW2kXTaxfLrDrRXkn\n",
       "7/zieMTo+D4XMyxmka8CTELEkSMJqJN18Cw437f+MKUo3aZs8tyjk0RkmTjlnfaAb0HECw4EwwVD\n",
       "AQYgiZu68JH8u+d79HtwzX++7vq92YIvrSrY86yNHllFaq7Y9KSMQr8Sm1Bvhe4vL9KTrKkdJ+xx\n",
       "hJcFQjutLuyKzVUBDhClOeRgNBAvwH46p/+0x+00VDNHKV6dcyD5VnAnWBPTQvugjPFLw8naDRk2\n",
       "+XOyKKUyL3B1VbTcEymOunrnDbVRhn6Ub72N33R+mFiLuoloTCNs0t6mLN9KuZZoRTJTZoWgsKX0\n",
       "/fwEu8Jgo3do+2lstI/pj9dFQhA1kKJkyN3O6EiN7x130RzR0YdaVQmQssSQKhV80vtRV2SFUyAC\n",
       "UD/KLD290GBWy1Dy12StOlcmufCcVmNGWTlYVVvdDuIcpFgKBCF/nxVnp45V540ykMLzSzK6XzJO\n",
       "U5rHpeKwoz/o8/nBSGv9eHnGZljer2YAXzR2H6Q67rcP5npNSPD4MAkBYGYzbW1HY97JuEvSQkry\n",
       "sQaqZ5AAlFrfwoL5OOAina+Od6FYh3mzPtAlaStncvOkjaaiExsHaKld2M5wC4pWNoDu4YvRAbAD\n",
       "IcVKXowulx1ac4S5YeL28llrDhe2NIQcVOuEpuIyoQAAAvdBmqVJ4Q8mUwIIf/6qVQACQHzb9Muj\n",
       "OD4AN645e/sDjrAKGo+SnY1MNhP+q9vCoXfvoieX0i9lZLN5u35QgiYivfTuGkJbmJG6eX+XAQcg\n",
       "TcqtJflgnAvgNLhL6BMk1Cs54L8iL9scEkElcjPGcEwiLJ6UNIW1ubcuWj2EF36r64Wy8hj+Ni7E\n",
       "4kN9eFdPt5kzrB8aDl3EC5csMxgMpirv+ZNG7489SR6PfA7V0Q6dR6ay2d+ylW533tdnR9Ckwgy4\n",
       "7peB+jUcqEf5KDDfgmLc/Vnedoj3mnqvnZ3VoKW+yIA1d0e6t4ffo/XUd7iZpRv5pW4FkvZZlso/\n",
       "VEe1q1uRTgWVfhk2JARFxZJi2woVM5kpOx5QDZQSKO5Do9AhpLGcAvusIh3FxFSfqObDFrGT5QCO\n",
       "xKgjZeB94eYijkeYylAvgPOtor9k/bZfrmHaooBuWgsDoDVWAxVx5VjzJNoE39NcqD6m/EXBWHuk\n",
       "jX39Nzt2Er1b99SQaulcnhDCQZGL28hsOMxI9nN8/RCOW1REOBsFNa3/xdKDVD1YPIm+dsAaGDiZ\n",
       "wAlhe5bf/z3U0CBrrcI/ePfl4pjg8/CfCr+/8HXpCj+FYoomRZnhiHrp7AlXVslmclD70O6H7m2Q\n",
       "0MREC7XBQYfpjQmShQXoxydQc2I61jghNZZvTllpet5NGp2bm7v/YGxUaropMDA/h9c9MqUoOtCd\n",
       "px/TJfXnZjpnWxr/9L4ieDq0eh7FAG9IXR1kEaTRH/MI7NJgSQVncqK5lO2T5sGMvgHuWDfXXXlb\n",
       "ZY/jZ6NAqDLl6hgwIAbbMU2U9xvPa8Fxi4DbsRAED8lXuUYo8x1gGuvLIzCZ2jwIvvDJ7TH2VsdL\n",
       "penUW6EgSnECDIq/csznkIz3+GATdJ7nH8KLI+YhmLtWRerrla57Dp/L0/0UV1Mteg3wX8G06sf3\n",
       "eyWJtgB/vODduAnLbFTCvBTjHcZBuKAAkM5ioaMC02fdvaCTf+iO96/MqhKBu56JkAC8xD0AAAJx\n",
       "QZrGSeEPJlMCCP/+tSqAASgsvsPhr5QAEKfSssOUOzw97cudeR0j0YBO0iZhd8XCLDlg7z2o0R8Z\n",
       "1Bc8RzU5S5l1t2hwCnNXRsCoJNzBxoE9K7jQiaz1BEO5VyPr4fPIriK31ALeDKHK5TTXbmAiPA+M\n",
       "VlkMFq4QtouT7Q7r80eryfOJDjd+bE8BvEkox8/Oa9sA+0q6NcjSVsfw4DeKtm92gs6kN7/cYo5e\n",
       "plQQ/fYI0iVhODL8s9nndw+zJlC8cTvbDgBvoz9WhdT/RgiHuPq4PSmjbQZ88Czy0bgS1LZp/nIq\n",
       "5D3lUIU2DmHbvhbb77FVBCtJNLWCUMjvB8K38et3sWu9ak1fYSIuqFWejS8Rznw4Rw5vXZl5EbHk\n",
       "+YrT9fZdxHkxdCZSlXOVUBO1z3D59OXFHFu1KUQgyeL71j5FM7eoWpEvVwt3S8INjqyHK1p0T+Sl\n",
       "zIx1Y3J/yP0VNJoJCGxInf/oLUyRbyTZAsTApjuaBn1zi0+PjoUAbAkEFiuCOzQqxOSd7D7QWFft\n",
       "LuWAuw890VVqfi8rPImDfgxFxkYTJ1bdZoSIWsFa6tlYtk8cMcImPWSCghRNcbWyp88R4Kuc3wy9\n",
       "K9KISeYxby2UYfdrVNuFtxq4s59bPOnEQSnFupaXDvoj9FLChQDQduNaXf7A8F7V7Gz8jg10tJxp\n",
       "IF0j6Z0k11QUCLjnPRIU4eZMo07gMZWFTYDJzt6o574qC0CNWphLgKFkgl7MFOIU/halXbENI26P\n",
       "KqzX8HzOohYpDG2aYVCfTpCTz3eOHr2xEL6sMjy5pXUpwpBMwLrT33X8YGAAb+7NvdYAqLGUEQAA\n",
       "BHJBmupJ4Q8mUwII//61KoACu/4gI3pHkRSm1dX0cDz9Q/WMeRNwiqNwxcWWwWe0cPDnAA8axkOS\n",
       "FxKR9VkRqYWpMmVb6b5SDAB4uRL4+5bF/W5Rk/SVW83Tvm5oMTyJiujih5Jgg9Gd51dDhyYyI5ZP\n",
       "C+sRM1VfqXaG4/OZftLIwtVhNfkwjrgUzkPuKTIOfRvM9i2OXTX4SpdoIMGbIK3qeTbaiyCDMF18\n",
       "rulbzPCygFb0eslSIF49Jw+7R3iLRdxqK9rmqQ/6+Czw29AFMnlXWW7yHhavLoPzfb0XXUID8tRZ\n",
       "+FKZP7NFl/lrwkZC1mcQJBYoWsIV4aY2m2XFPIXtg+qk2dJBevbqcSObo7c/iWIGCzOjxHG/0zjk\n",
       "RhAN99dtdJyd0tFdwZ+sziCM+bms+PA57+WeQEKsyA8wnBcNrmWkJddJSY4roIl+hUcBoiT4cFGZ\n",
       "tmx4BEtZg/Qvy1tvSk6l/Me75il5Gu3vTqj7/03khQTqlx20RIepn/KaEUHkQ9tiH+xyilBrmVfZ\n",
       "AX4mJLJjYNMQdrHn7KfyQk6EIjNPhcaJtc3Q+ptfdphy3vSMTiyZt8SjleDv/lLM9wQdqpyyxEEN\n",
       "PjPuZ44Q2I0tPZdafJoTzyPpckbDWjTzWTdOCUExpCTDDLpRQnaqH7TT8HloyqlM8l400WR2mqqU\n",
       "1ihgbQf9wbQokzdv4aj3gYoGlP1df3N4PBnpYVO78IqxUt2thtaoYp0AZ5L39tTlRj5K4M1W4qYq\n",
       "PLQQQDfukSjxVpf/xiLwwxHIOGm+MmGHt8ZP/W0Y2ViQUJw+fyAS+oDBiNc3Qbdrl7XewP9jy6fh\n",
       "IchmN/7JXeKOWQMHB4mfkuYNdPWADxlgd9OIQ6rpUNADVR3t8gItxLIF7aXC5YnjnVt9ZDY7WhCV\n",
       "pgdeOVCeJPXOp/x9ik28lLJYExa1fLuNCajAjHBLzlYD12qI15QSi0UdyXng6PvtW+HerQQMLABd\n",
       "fePq0gcudHHB9mPQduf4wN8em/tb4dMHy2kFAulFtBSITGFhkqysAnMZ0+OA8Tcl99kWGBWcHD9V\n",
       "VoZi+i0J7l0ayJTby2IYHmHv3cgsdOYQ4WTwi/oD/jdp+bDocXpYlBb+qGc1D8kVAP4Oz4rc/XFc\n",
       "EZm7DB7aSzLbnQWtFgDvsVKwQpf3ohS/8omn3VnGLdwV7bFZIWZEmObrXkRqtTH/AvYiBIPCHoh7\n",
       "+4yYMPkYgJrXjjnR2s0X1R7kthkgzdk52m5Xv3S/Bi1vSnZfi2O8J2lstjGsiM4ETpN+PU9FdQlF\n",
       "QKbS9vt+eMD3OcbXDlJnnB28EDkvGVU5UXwJUoIiyfo8g8mpmq6dZ7XNkTvR3Usnp4k+YCz8/88o\n",
       "N4KW+iOaRklo/bWmSpnJbSRW3RGPrYZ/iTZHS69wsFo2Fmj/uFrwfDJdfUHF+B4hCavunUICss1V\n",
       "7yJTh9B99CN8tYiNZCkds7eZOZdMQLtRnoU71Z/Ia8yMO8NtxrcPMIpK+/qg1kkaNJ5QndtfbQ9J\n",
       "AAACbkGfCEURPDv/AArGMDvCsrUJClhP0AGi1rOUqYTVoaJj7lQ6K+MF0B42lqKpOEGrlQhly7pp\n",
       "wUE9ESPNxSO9u7rSazziaKpHxN8bMoRIirXeMo1UOy0rLRUzti8ujdOF+f+vea7vq+Pj/anyloQ4\n",
       "c+vltbhGQgjQSFMN0w3fJv+zZcYmumhn4sGw1th9EnM2dw2Df7J08ttNZwRSFhEhCVtag1iezuHH\n",
       "STx2iIpebkzqNrUF7leuvd54/jb61SmC4Jpo+76xc6kqMsPTuuxh97GWi+TfwZtNqR/eAdl7i/81\n",
       "CwZbJiOMFM+38i60IfIqbuwHz0aiSrq5WVQeTAiLe+z11cSQXGxQlkE6kC5BGlNYu+a1H9v3AzHx\n",
       "vU9dA6MNHuaCZbbqL8+MoLiOwOWVourJjFNtuGKTP1T/wNmfVafRp3SrAFZYFIsUqtjXjguJe5wv\n",
       "bS22IGe5ApP+YJSTIrZI1qjn9kJzkaceGe9UTpGHzRQhMKwZEglbTQGLwv7cE3bNaF8oecMCXHN+\n",
       "Dd05NuVQunlpsfldI5re/d+jxJCRFqfmKEwu6f1Oj8wpW4AuHtsOYqTc185TQaG5yCktUCY9OxxV\n",
       "7I8BrWfvPbULwJxNIMFN04r92Z8+j9NhEf8eCAzpjDEIHYC+8MapjMr15FseCW9BvE+YdqowN5hw\n",
       "7QvjVhCRS5x/B/2TH6KwQoozWRj36VQsLyxMn3OiXAhHNCj6H1+LDhr8+/gmwjYsWyROyWz05cRI\n",
       "1/2XqZvtGTIlwav7UixAZfKS6A0sKMhpfuhuB/AZ47XpwysnMQLirprdsTHHTN7aKgN7LWcYPYUA\n",
       "AAFNAZ8ndEN/AB91VH3zRwS4Ls4PABzaA1EMAJiWj+egl73R8hwq+pQP/9lLgX/T0pEIz2ZQYW/B\n",
       "xJ8BvqxQuY0C9yi5qPysuJX+NVj1lkLYiiPU1O8f6a+ajYjAA0s3yPlDyMTb4/VitE1j3wGJXJVS\n",
       "meo4iPTWDYWAqGW+6gdJRiQrVJrrBNOSCi0uRgUCouQsjX6zcDIpM/uH9P5r1kjf+ebv41hNgMAC\n",
       "wfLCplPZ6JP95qm4+YSIy+/A2t3nNm+kj+bPL4niA9Zyi3xzqrkVl5stITwdn6UfMN3qN3jh4dPl\n",
       "1hJbYjeQxQ0d/Qj5x3zIzEXi+f3fCWu2yNubNysX3iVl3TVNYhu7cFuYKU0reEuxGxdyxA17ddWz\n",
       "EzWpRCSIo8K0EZNAoAz2EBdEq3ruzrDcbGNC/QqTKL6gyA0fLLw1AvFCFkAAJIGcZ8moAAABdwGf\n",
       "KWpDfwAfdVR980cESHv6VsBsJ1ABzZ58/fa468mB8XeP4TFO1e3vXT26HOZBW9+TpRBi3ZQSW2wp\n",
       "64Ki8RzfhFoWGays7UYmspdC35mq0sBKP0pjVbOTSUPKCNxrVQsou2cxrPF6XddMdma5BQHV5NYi\n",
       "u5WCwndfqQQ3eSIuEBoyNjcdLifphb9tX1OOQCpVE148M07haW5qBYQep6LprY37PMzUNcHhvImb\n",
       "OCOHtzQdexugMlvJ/z83bbtpybQwbk0YaQyOgHddQ+vmSfrXGQ2K2GmeAL9J80mYBNXSSCtvcaUt\n",
       "VtQ5IeWGRRtaXyPbXtFZacdIlNlFw8p3tKR3Rf6sUwaGiASe7JfvUsEjxhMmwtvpbZ8iCN3qRIFA\n",
       "5rBB63mSHJNH9O9T5wb5Vgty2lR9yQYy2FtSnA+ZTuez0EAavXod0bvz0DCkeIFI0Cw9FXIcyS4l\n",
       "UnjBwOKY90mfPI/B5+4AIeZZ8ErIOQ2QcgA9SVCHgQAABRBBmy5JqEFomUwII//+tSqABdyUMMXw\n",
       "CDH3M+jZ7revlWO7pOHGl9MzDVRml4j4Gw2zmAEqwDOOo3ZFzzECnrIFe66nMhHbXKK/jnHv/Avj\n",
       "Wl9rWgPOD9mqaRRw/Ffv/IRDNbB+Q8+MERoOeiQJXry0zkTbGR6YdKirIkY1/0KGYAKj+VBjo+jU\n",
       "mcl8yN/xyemmVNjcD2Fsy9BnZiuocHwOt2qG37Tk1SankmasEUSliMkrgWJNH5JgYoPHqPNEiw7M\n",
       "mou83UYlGzYJlspb9LXYbSkAvU/6ErgKGVf8J0ILZfLMEtGfz+kYpQf6saJFL8ZQctp5b+ntw8Nc\n",
       "BLocDTUcjBUpTcOuSnd1kWKl4IKOE8uGp7cP3PJQnJmq371YcawvIi2l0XY8Bzv4k/vlNOzNfpnW\n",
       "WJ36Y5rG6iSlrbBjL8vUPC/9Ts76ydrKKy4F/kot9eceTotSXZ1FoRDgoKgdAX6W60UDK4hp0QAj\n",
       "bu8UWMOn1Fv24t+EMncxAnOmbvwVdybxSiZEwLlTJYkBBlsJmUbUsMxER6shyP5JzKvuYtas8VtQ\n",
       "hzsYeZzgmVimyPDq+/+bruC7NT77P/mB5sSbyUrNkxeOlDY/+PRpXgHe/BhdbD56kTdZqWQdoYMG\n",
       "4b959GtkKQvA//kZGaThn9ZeUtf7aOeEe9mir0n8BkCPWULm3YAZfdNpY3cR/MT4rp0tyECJBtAx\n",
       "MXJs5zY5K3Wukd1Mtt47yLoWUI2LB1G/gVy84uG1DDLnIUxTX+9XT+/Bm36gGVqbKnplNBSeCVuj\n",
       "7WE2c+1pInVLgH0h0/wHWuaSC/VZ+iPKp/5Tt7E8t568Hzx0hN7Q6WitsxUsPkiqL18u8ZV+aaD8\n",
       "lAujJ6swY/fGIyJsKA4oJiteam8O6+L/p5bMIZL3eIkhIC39yx6tjD0Eg2GNmRfVsWI5mkqcMIaF\n",
       "xejo87D5mHqVKsQdlRlQXwnb11ujNXgul8i+D2HeydhJxpo1N68or7WFWQ7YQz55pQu0hfzyYwD1\n",
       "mwsFCMWHkP9VyjVO7pOixYrOAueJMwTtoXevCw2E6P/RhVjkii4EvNfZx2j/+q/Aobf9peKvWSAO\n",
       "jlW+BjhT1jFV6+YDZXQJvuDvExS2OvUCGEIyR0rXrkAlSEIzcrPMTF6qfmvm6vZqJGI+WSC+a1iP\n",
       "/zvl8TkK0w+sqNRnSCVWxRXUKXRwXzzedVLuSVdgqd2Yt1yv9MH1JHNe7uzNrK6sE5aV+7Ihkw8/\n",
       "zNk9ADSl3TGALpBD+fOLw7kago4QBcams0N0hiRne0wZZOvPbAl9cPWGn5sbZlI1wp3BFnLRRPY7\n",
       "7BrFgpcDdyd+X0AHj2bJViiBZaOz5jsEiNQ2Q6jUlPbS0taqFFlRHqxCfMSng7MJTDMoUELTLeAH\n",
       "JH6MVaS0tuf/O9PCoIu3emOzNmT47BcbsrPBt79M8D4L4ASRa8K+gzpPLXHc7h23C6t1FbnVqyT8\n",
       "JmzbWA6sJ/i805MFyM6f+VSH0vIt/EYcAqWVcE3mPxyWSIcwm4dwXKPUUshbW4fPoiK+Nt0VPwLq\n",
       "mo1phHQPUSpMLZWZHfbmK/GyshxBQ12RbthY30pqATZJWAfKW2Uas4KcXe9pNlktrobHTO7WGAS3\n",
       "/eR5k9gf8XQ3D0FGwYRKCWIxvYoZCDfbbdC67o/Vkfhsq0ukir9idtzOWiGnXneAAlZFJv7djkHw\n",
       "uHtV9lOfCF8d8bYV0f0KfiqSm4AAAAJWQZ9MRREsO/8AFq2SnXYFAsjcgnlvIs6O4KwAJ2Xq3fLb\n",
       "s6Yo1lR1Kcp6y3TNX+pjE9IEeIK+uX6QTGZg85o+B7Mnx6qjmlMaikK83okAQ8lB9SVIq+f9Zay2\n",
       "OKJcyIjCHmhAEIAWm+vkLOsZF9oHCq0YZySfSnJZfSWDBRY6IsswaTN2McDT01ks/IaZ5aJ9E6rj\n",
       "wylyS9ENqlmASxQVbvdHqPPKgFbii87LpySreD84MMAFKq0+MO4x/RQz+Wiyo2U66VVZgVHXE+MY\n",
       "oxCNN4Nv8FVr/MwZalqK8qX/5fOms3n6+2w7+Yw/IHeANnZnG9WXq/VFf+8ibwCbM477t5HQeHTS\n",
       "ZLjD6I1Hj7LOEjqu2IYczdjOAST7aKcfzgZg1y63HjBpmTNghME5R4ZekM/AUg9O08dIlf4KfwNf\n",
       "cpa3xWAaVMGmMvh4okUEZcVjxXwkLs11ceaLQNzbKqyTUq5ab/GMV+HxuZsBzswiDEwsCw894M6+\n",
       "04QJbuecgHh6ZVXelstt63WW54P4jqtg8SGx4Cwk4dQAjZGhpvS3hBdZxzDvpxQBRoMScBzj+X/0\n",
       "SFq6u9c2faBzGUObd2wZM7kidgn+SLH6CA0DiIg5LsyVHtJdIeiMYeJJrnK9BHiyST1M0KFj72t7\n",
       "61A8vQc11LQMIUEI9vMf//jZ9X/vk9H4j83s82jrUmGxXqTaoH7HBx3srqL3XsijbxQtrcYo7SK4\n",
       "S9qesHwSetv+htTrjtbs0jpJWgHOwYbLmE+VbT9aC97lI1VPyZHhE1EQbeEobdGneJjTtQAAAbcB\n",
       "n2t0Q38AHrZNA6IkIgAnVy0WKKKeI6d//DBXVoVvKz7OC60/3mZkuZZsNd3rjrLON3H1OJn11Jxt\n",
       "32BiZAHlI2mBMxN8H7d7UWs5F2DIhtZfwBvgoEaSUNnHTK5emoFeUDSN/21w8KDZkt/7P8OqzBOd\n",
       "Btfob5ChVhLRm6gg/FUkDAndJoXy/Jx/PPFY9K8cQdk8pHneGWsqr0BTjfrd5VOXUGS1z/d7tZDe\n",
       "0tpB7BXYB8ExfBnMoS6GZN3g3AaWEUVDDReZv5y4dQbxEvkW/OXer3ILlvlGG75r72FwUzrnZ7H+\n",
       "bp4WVtjcE9UEvXuPvqFgPb4fVOrJy/NMl9Eo5re0A/kNBYYrjVaQ6zQy4tqvN0TI7KI+kJ66PyxD\n",
       "29fwOt1TVrHpTDRyGFi9SbcJanucprE11L7HoJ2vxLL5Orslp01qtd/gjakvgClr7KZlv3nmCF1e\n",
       "0fu2hVO8XXcKHGQKRMjYC9si8nZvbsU80E2wWndQMoFuo3f3ZVojkpAagvbfWg9BcpqZfennJS1n\n",
       "K5qXNRJHq3rSXHsv2oQh9VMzjhsEfmahp+/ZjUeqSzA0MDQsNd3tAAAB1wGfbWpDfwAfsY7CgiO7\n",
       "fiQAbLfqOI3Z8IgEkkX32bhasxkLt69Xhakt2xUoHKH84yAadVYOv654PynZBdAX78UHgqWu6hbM\n",
       "r7bBPgvj2YPiy5nHpN2YYUL41eScDnB4IvWzd80iaa4BSS5GRd0LZV+5TAT6O1hY+qOgdbQfaYHM\n",
       "CQu+bWr3vcM1uhRaQVG9zI9MMpQvqIC1pZLLX7JctD8ZKx35rWaE2+0LGkI4Vm4dYf8rsHma129o\n",
       "jBC+Vjy936qr+CcOt1NRb/eLX/k6SVv0FEaXpul3kc6/Eglq3uWq9K9M2ZEsf/9dDde/JP4ZKx0F\n",
       "bDPjA95OWSxVpN/3LEct5xKNTQRiF1SjKRuw3hH2V9G9U2LJwE9ohHGkP4KAXfjWVq/5p3Jjr+hU\n",
       "45HMqiD1Sehd7+QkNxHmfRCI6keRHApDW+QpdSJEogPyBQMW0uAx4gW0fsC3DzoBMhyN909iQllA\n",
       "mNvh9o9ObL9RwKtvMEb2yqfMhETuQFIZ5/mmSI71KQh92p0VY3GUEqawolx+yirunBawrN8vd0TP\n",
       "Gw69na0bvKmRf9YK4R7OjIUoIHNqSeYZI3WmSU5Yd9yMhcaaWoFWjBLJ8jA8LSFkg3Ndw1K+gBic\n",
       "gQAABKRBm3JJqEFsmUwII//+tSqABeI72zqxAFh0Qy39RABH0HBT2MUpD8+J858tyJIsduad6VXH\n",
       "cafrHa8njiEt5RYtMAjbtcWOlhM+HJsmWrgJzPcc67vHumGPu+5yc5yy3RPsM/DOvltM0Fen0OM2\n",
       "aISMzZcuzlMtuaOqQvhJymr7GCecbjYX5dDU2F4+YZN//nij0Arkb86EnXnu1y50L2H/FFzbRNd/\n",
       "VpLLM68uLYJxw6qxlEVBoBKMP6eLlMzRQVz9kHFFEumdgXPyg6Opnk45ta+JYLuarPSxOZlu1BSQ\n",
       "by7zFFs109igyR+ORfDcOGi69kKd/prubNEfAY8e0pn3R0jShO5wOU3a7QyD/bElB5Np4Ajz8OY0\n",
       "+q5gfNGL1FeLqc87D0jxRZs4Q+NuwdDnUP7Sdjzg0DgcmnlHyMyVyMhFWmMaZoSf/9Yq+lTcftHF\n",
       "gpYWhWUW9dXaWex7/Px3teSKnW7+iVxQ5ba5FpzG6xP8xtmqyzz/l3rbSmYvBZYw9Vu304oLnbbU\n",
       "/BzWcP+tvbWb6Wbc4ai178hp86Q04MrcCmMnTyPrvutAeJ6i4Nlw+GASyh+HuKSdMddV8+QHoesE\n",
       "EQsd7KufVVrv6MA+8SkA2Voef8lcSpwaaStiHsWQHEKTSkJD08ez/zyImtdqcIbE55QOBkJsYOTe\n",
       "gIIXEGiDzhAmlUZWE2kNA2TpgcCisTQ+AK+sQfcBxYUJcSbcfdovBwkwNXMTOW1zTKd68H0yC+CA\n",
       "QfCH34TS6hXpNbqCc6leLyc5xUyqfuFB1nHXRutAnnQ2aEUNKMl7J9yOE25JG1WcoxOzdVMPixR2\n",
       "ruokeeMGqXxq3s3blrXG0cX/kK2MfHCPCeJ9T0SqkOJKr5qqnauzNt3yVDGbD6f6rBBtzNZIq5Yz\n",
       "vQkmI3n7yOTkN4ZmBxA3/PY1fD6+2q12Fi8PgB91IymcJE3EnY0fWvQm/8V9UAAbhf3P/GOQJGYc\n",
       "08Bj8fSQTNnF2aNWV0CkP4QPXxFQrAC/cnAaelWcdmuqJxwmWSyCdIQKO/wtUSGSiiBmvpKlxou4\n",
       "H7AHI7uqHMs8zryF+OFffKNmJcmBbzhkT/Oj6ArIDFFkrvRdexR9fRK5jNDysAD2F7s1/G4SKvpW\n",
       "edEpIufCp+j/kULcCFbCTudXIWBZ6DUtkZDbLsp3uFUAxG9K7Z0TZfhr6mcZPJi0xWNTdLK6cM9L\n",
       "n6upmHb+6z1XRSsUAfz8JSghGlZhA6KilyQOaZOTBSa5K+trJNhUF1jkdA2urv2wR4VGbMQ3l12n\n",
       "Qh9BU87OYe/aCaNvP5mwDZ8P/2c+2WqTR4CHYplrroY5ZDMeNmVy7FJobHUW+1JjKHyc9DxqQQsA\n",
       "TVhJSBFW7zeSQF7sKSTcHJpoDD/747C7cyN27D2Ub34UM1DdVj4YasztvkREirUGmsPvxYJb9fy+\n",
       "RIX9fl0g1Q7t+zY644zPyNqLTi8rsOhJZXgxjCQXRUX+Q+IHEu/QeFGly8xOOsxFAKc5aua3GPxU\n",
       "WFBIUAVKsrlYWYqGgS38xnu2HYlOv7XqmWWF0nSp8OqVdX7KAql+nCOgZj5t9j556T4gQJkAAAIj\n",
       "QZ+QRRUsO/8AF3VeDUGg8iAFvJz5IoJx+Vcx1BRKFb0pBUbnV4NAbU11JR2A1+fMv6cZBb1CVX8Z\n",
       "cp/7VpwrU1grogWcy+fRvkIxKoLW36AjIgQTVSw7SQ/RgN2V/+9NvnBGfzxMFUNinlQKwWDC0txi\n",
       "OvqOKurl9Jt3sOS5aqc+ozfV3xs7fMQm8DmRFHfVV5I3mM44PuXtqvXNUgbi4bO/zrLasBJIYBBb\n",
       "sAyaxXZQ398wDKfkihUS/wesWAL/WCU/0xeAGu3nmzgKLvRP/D9aC3SVINCnYrfow9354Zy/1luv\n",
       "qteK4ckgWE5rjvpuzPzVEIxVPFls6ogkFVUdmUZFEXjaZl+ZSF/5/9L3iMGkVRPK2+RK+zhhEB7z\n",
       "T6DvNwYJa9oWtVlivMj5PnQ9Seo6gstZzI0/wuW0YFNggLKaUC+KsF3TzuMNDkSJrFmKqSsy5gpF\n",
       "iJPHjUehomLqWJwIxfLuTzfkOTlhizpX2aF9VKLJdysLAtfS5Xy+K8GvTKoWb11vuLEYCGFzvLa3\n",
       "AoajN4sn5BHvpcO0ZzVNeU4CMM/GS8uu6HlmgbR/H3M7L9KUnOi411WRduogx4+Xs/cFULHlu/UE\n",
       "fLsBkNyeIiFBsEt4mb7xCl2YfUEQRMhq7TWtcqmO+Xmp8OtzFv/bwuXMF1MFhwqu+gq6o/7TVEMH\n",
       "jiykCSRBSJav4fKXLhBOoj/AbTYcOmspegdd0NKnXx+1SAAAAbMBn690Q38AILeHIyz4ASRmCi0h\n",
       "jHx8wmo8gKyIXhdF2TzLwAinI+dl/+LdLByxxsWW6bWZMo0EzjK/RlNMwKIi7E/76SthoTT0MjOh\n",
       "yCCB2v4vNWcF+yGT/KcKQlkzIGF2nZI+V1k72l3nEdIUcqe26KMrEuBiVCxjqqv7Efv8NZKG4yA7\n",
       "mHMliOPSKUax0PvXFnSEIWIxPp24szaRknV/rG/KuFxS+zBNRFnx6L3BVDODSgqUrx4zFtouNq0X\n",
       "K8UKzzwArn/uEpDWk6+rYPOZ7sztmo+cJWUnsLInEftZIPrZdoNbNpenLJA4ARyTRkZ4NvRVNryC\n",
       "18qfWgrlKeDaEc5QW+5/Pfpft+/fnCF4bvMYRwgKOMD6jcgBXVtdLJy9T9tdhoQtWFPoQclFeN5W\n",
       "FRjzyIa0uo43Ixnmeb6t/uluuosaZBAJS9cNRbYgvfDnUH6d7hNVgy/q9hgFMHQhqXcubqRsuezl\n",
       "Tb4e5Kvr4Wmz/tS4s/QJIc8PV/dug6CxIzd4AoCXxLbTzRBycEXK1PwOhooSgVI2WKE6ScS2ySb/\n",
       "00O1t4QAAAMBFSL/a6zdmiAAAAEaAZ+xakN/ACC5EUXYDPJPAB/Kb9ZylYG7mmvxn9UWCpxYP+3g\n",
       "yFBdvM0X+0EIbkkGXpeA3AIaGq887YqNdYri/3t9IlLvAOH/U8MvmY/Mplo5wFq3WpVtg4u2Hxj5\n",
       "3tmZ3ha69SC7BYeHXO8mWz7nfXKAnIi6jmRDXSBgT/rB4/R8nSPiUv1xwZCWcCTfyJux0KoMtMvS\n",
       "RQz/k5BzZLB+mLFut/i4lzgHqMNB0O7xsV2Cj6VWVkgTXrnCikeKr67O6vDoBk/Ov34wofdGE+87\n",
       "bMln+fMPiUZ0OnX4WJRjHSUbVPQ1I1/bczFjTfXxMpa25NcF7ovzANRoWyAAHsEGkktGZv15uXHl\n",
       "QJ1qJ/rXgiRAABRuK+hVvs6RAAAEEUGbtkmoQWyZTAgj//61KoAF3IL7kAOPEtkN5t1Z1qOqpIDr\n",
       "jNgM5MNfB/hEvfTLHLk+tHMVMIxbSM0+ITTNl3qDDGQyvC85wuS5hfDu0m2kH920EtnbN7anzbTU\n",
       "PSnkrVDx50Ou4pJ3bJy17RIgI6NFy7gGcE0hEIacs9HcF1+4jYNnm0BIB362yljwLghaMh5oqMvZ\n",
       "cCt+nrH57a0ofYmDHaWQ1O6i5nsCVWUIkFLOZU4gUendNnFFq4qpK5rG1ImjyRKqydxLaHeaQjrz\n",
       "sgyzTigsNx9vV4PRphqJaYEL7IawzyirPTjPARyxJZZOAyPcZreC80k4ERXp7Wgssb+ZT65RNg7A\n",
       "hLEUASijSBN7rZj5lrABMSTYqi8mD0i6BdpWvEbTMfds+iCI4FJfvKDiAo3EVnGKX7NfFebtXJ5+\n",
       "t6l2j6UPPXhmsVdQvGD8celBWSukEvmak+r6fTrGF94SM/aSdFAuohXWLaHnoO9CBJXE1Xr/mxtr\n",
       "hBwVT5FTqoeXQBNW6ExV6lcv7pwvaiF5nyf2Q/zLmvCuIxBa6dkhgWDtNmvpmPGpzpXEXe4cAZPZ\n",
       "fJfg82n07nZbAFaYZRd1tpX5+sGA30ITWsIK2kWOkXfhKA7kQcvp/lC5Y4L6UK2GffO2wrO0tZfZ\n",
       "qWspKgf/90UXLnYmjl/Oc+bRvRLnTQzLe4FfYRfYLkXEPs5Ip/M9ylhz9JB7HJWcF0zdiFDBN918\n",
       "8F/89ISK6wSiaZGnZP9iw9NM8s89c4yh9IDCOF9dZ/s2JCQKAsrEZ1V85Eea9OE+4R/AU4+0JIkb\n",
       "LhhWr1nlDGHcmOog2icqO/oV2oPumKDBeu16eqayxpTw78vPh0L2Pd9imFMTciglY5dQTELEllSo\n",
       "uZAq8ywdlKqrh7r63OjSM/rGttqiImBgf6a+MV9eBHQjgItt/Xx0Bw+gz2LVSxs4AS5Zf79FLvlG\n",
       "Al7VwRZbs39inMG+MhXPVSrrdAfGSNVMUS+4M1LuHmDL4XUb56IKKrTHnOch/IgL+e4ROvb/wTeD\n",
       "c0Ari5jjLTOaSXwyfuFPtBxqxi89G0CAIJgIumpwhBPk3KlUOMid6J4LGBsbmJMn0/q9L1rG+DXm\n",
       "AzoXnwKmPXoAE/f1cprziV6+apVK9tjE8zTwcwxz+bqXIk2hdR/3T7WcDL11M/8hO8mYYMGNnHa7\n",
       "NGXGiJ8ZhAnrv++8ED5IVDx2dSzauUJy1TFOwewVWUWJYA8Q1Rxm/9cacYxcv9JEnyHzm+Cq3tXf\n",
       "oQY2qu6F9KxpMeRMjTWvxeZuVPEDvrmEVG/iuwckaAKfvuQO15tK3i03itzQK0MbbMygYJjKxXTi\n",
       "VcGwbLYWe24LdGTWH/pRthK1pQqo4zcOz8SrehCB/cTZA4AzmAAAATFBn9RFFSw7/wAXdi0GfIzl\n",
       "W59f//hk2L1kADjOijH4OsrWTNjd4HSTpvQrtk9bf4Pj1zJIbilC4YWwLXSVSD1cJe+/lhMu04xF\n",
       "1YQcnCK1iOuCJTrxjBnSr+RwBowSEXNk2ydpRGFZY9eGWFQ9UWBzNO9hSju98jKdni5Y9A+H7skb\n",
       "IL5sDifNqW3RZNdvRiwJVTgCVIxcVzPe3y/9VSK6Clj0fOqPeSOG6703wpoJRU+dgZ8VfmQocZV6\n",
       "Y4s3UPLzNSGwVjW5jOzeVebcMFzMiIU9tB4ygw1ihUzPa0FmoTCiihQKqbKahrnPkg87RJmWefL+\n",
       "UpF5snjRA7MBoXhiVZM/5sb6N65H4R7s1BX30XKYoBttDd82gIEpRujOjXFoLqOcWTVAAXpEar/U\n",
       "+T6q8AAAAQ0Bn/N0Q38AIFIA29QeIt4gAcb3fiKfIONaR3qNe16s+mrxg+aMYdpEw9Q2xOUiEXHD\n",
       "Oqmwvck+iJvOLIdLPOvelZhJOnEb/zq8WYPuP33/w9hJe1ti4wyFUQoMk2E3m3WM6UVESiLzHvKg\n",
       "9Y9PKhM5vjmUxUkSKKFdX0vFW5kRpQ2oxUkuORzrLH3ML91Uu2UKggPXAAkS53YTjMROwaQn5qP4\n",
       "zBgbwzvFjAoZl6oBFQhtEWQncuKG3iFH9bWkuh/gIHpHH+XABiERkRNTxYe/Vouji1efbeAIW4vl\n",
       "Hdx/qUY0GAY0Wsdkt4rjd6k/V1hU3B+oyryoQm2Zp/+Rmb48DqrgDU03Aw+4aeLHwQAAANEBn/Vq\n",
       "Q38AIFIA3IHQsGrci6H6r5uvxkZ+AC+TSM+o1bAx9xH4QU1LJIdPM0FCEjDiBeTHK14wwNNDFzWk\n",
       "XPWA3tyWKDEUMKvcErh8aSuz8UlhzyVasIs4D/YIv33q9i58RYJp17lUSrHSdOJuyZTRj+P/WafW\n",
       "z/v8/8t16Czv+IPUp3cwMv8wyWO77l+x14vXgE95enqcC+W8dxY6pNnxNQVi1DnyXjDbKgL9QPKQ\n",
       "moUIH0H/ITE3/OYtYG7f8jKtNwbS/IIp18qQPp9xYwodwAAAApdBm/pJqEFsmUwII//+tSqABdyP\n",
       "qQAFsso8LMPjcE1sID3sFxBJAYMd/K3FirWJg5kCB88xzkhAF2NIrMhLjVmJdOU/t2BpYKxjkA7n\n",
       "KAVVwZzHKPBEL93zNWWkjkFHbNLN/0JwIRY9QuiwVmLKuq9w6o0o6ow0xesOHUh9msmUxRfGEDd2\n",
       "mivhNVaYGW7XrZY8wYBXN2UPypOeSTQFhb9lD3eg41q5km/uI3mb4pIVdLDQAWkSNJ2QhQCZldc0\n",
       "NDz7fHREZW+8H54CHdweMaMBchxoMI5S26ieMGtMRJ1h6klI+2nqzTsnrSnnlOVH6zE+nNrtdZzT\n",
       "fePQ1TAJG+PwGk0DoCmMCkTsGO1o9MFEKv/ftUviBiLZHMJvi2nR/tlPbOj52KNNI+Atrxc/JI73\n",
       "w2ist/YylYQgZ2obC2S2inoncxNMw1WYCDx9YYy8lQGBkeqYyfeQnUrFnAIhedhIYc2F/VE1Dvxf\n",
       "YBWADVSO0daxbWHDY2XapNekum/5DxFynkItfduTrDM/99yoSx3F4wR3yLWvywzt/GdgH21v7lIP\n",
       "DFIAwXPIwm/ftbdS3D3F747/wwRA5tI5ZK73g09RYeF4IEc7z5fv0erWP+p9e5j7/Ln50AAX9eIf\n",
       "kxbvhyMhouM/e009dDdjp/IvhO0s92dS5B1r61MYAIhCEZffUPv+GU64VV/3QWp1DI/zFijFmtfb\n",
       "Getl9phcIncjcqotOCliTsQ7O06zmubx4D4AP06d/SYb0eHIVvYysifrreVf4jhI+50JFAb/+St0\n",
       "HBV3mOz2ow41i0Lll7EN7hTaeT7oL4iIXf5vTN4T6t9Hd7NZT6IJI6myxUvqdG6jrT4T+C/SLSx5\n",
       "ESQaqT/fOIjZLu6P0cAL1MEAAAD+QZ4YRRUsO/8AF3Me52mO+oPrLWaPZ20ur2HYzhxxdtOBgAmp\n",
       "Kj9DjoDwScIhwfNNNnGZT7x4VNSljEJW2wpgDOUb+wIDD60uyczPNigrhGjYiHkX1j7y5lxTnWFU\n",
       "8FCVu2E79x44iaBzzpvLqdGRRZ0Urkn6rFxmk4fSpSJAoyJt00BTWRlKXbcqVvnCWLKD1bp5Ohd5\n",
       "f4ICbA+AX3oA+ElSmhzonNxyeocGV3u9gFw+oXxsRTDo+wk99nNtDHp8THmgDLxF3QlBTp7pRz9H\n",
       "1braiIVu8RxhWG7ZPVsnz/mZw1Us+puE0xnChCgUe2DDl3+k3VBYZuY+ttBITWMAAACLAZ43dEN/\n",
       "ACCvrpqGlLBV/eWOUXTqj2VdgAdbo3g6+bS2qIsh0GYwEjhjyppw5LuWvrYjxvy9uGg6JareE4QX\n",
       "XZwo9/NwF0rcJXxWVZqZa4W+xjRbmPeyJ/M/CmJ+Ikkv6AOS2ycMrFCEU70vqioaGtx5+VfGp9Gw\n",
       "o4ohYlydkLrAwGmmPu0/o9IKtwAAAGcBnjlqQ38AHxKECL7NJ39O0aGI8++piuRe6Cy1bgA5mhWt\n",
       "xjZ5pP1iL5ziZBfsLwahM/t9TEWNW5DBusVllGO+hP/YJs7Y13mwT0nG51K4efE9Uytv07DOk5Wv\n",
       "eABKwu4CdPEtl5HFAAAC60GaPkmoQWyZTAgj//61KoAF287teIAcZAsynnrcSfueKmR0U4FtSaVY\n",
       "fBDqKppLT1ZCx4xleCdQBd9b9HqqpMZ3hZez+zz0RhvjB4rOdzbESbVQXOmsZOWeMyRakE6/BDOr\n",
       "xA+d4JSyk6Yig/5I3BHVf0uEC3NhRTCuozmvnr6ESFns+kuXe8uSgrGm7QooZvNRU3E+mhPp6liM\n",
       "xVbJH5Lv/j5xMtW/qGBBlni/d3EZ9MIROEICk4979KBFPYn9lwB/N8Tx/wMBh83+HZJLtG44tOnK\n",
       "d4mpUlHfpuAB2+ehdF35E0QV3T4/zNds4872Q9Jw817okxUwa8ga10uFajyTpm0YF0k9VR+zOlZr\n",
       "tFdCcBuixIGMYcyrl2c1GUpC3o82/ZsBHSN/44FsuppdXQvSXiNJ/vtZksy7r+3rRyiOmwe1vwVE\n",
       "Q8E+y8Cks57Z7D7SNz3MxQUcuLuNUbmiE2By7eT+EY0rt9RyuJBL0Al29OM1jYAQj6U1Ar0BIPcQ\n",
       "Talq+eHIO0R6rnGcxQZ1zfRtEL0iPb67r685/RvKdc1/DeBbkvIBNo+W4nsazMRoMKIWpllPPkQK\n",
       "kPE88YxYvHXGFpd1jlTdO8lB/NMrAB/GZaR92biBzvzy4c+it97mJoEJtv6z0w1wrIrwCbC+ErD4\n",
       "b1fURiMRsr5C7DvyGi/4r5Pl3JkBoi66WX+sN+SYIIu+wQww+dJbSHZ4ilTZMngqpoEP7x/1ka7c\n",
       "4zaYFVGl7KIKLLcc0c/MvhN6WCP4Pk8qKAcj7JEs6tNacl3DOkkAn7EBX7Q+J0DFhykDdNnDzXuQ\n",
       "R/z4ZG8yhF1cSEKKo9PHnFzotTlkFcwu6uty4st9i2cC45OYPzpgaEq0Dg6d4z7ZSmPHDRC7t+e7\n",
       "2aGPh9pzPbLLYiJbyly7+00Ph9IZJCeRq3x4fg5AiKT7b63VJmRtTzxTtrNoksqD6yntRX4pI4hc\n",
       "DzxbypDDlQPoiglW2O9IoSAxyo5GcAAAAOpBnlxFFSw7/wAVxwwjGFwN7Lv6Bzy9date4AIU+GYi\n",
       "cYD3DT0Fx1AspBuFilucQKfaMUI6JYEfewUquLikSYKP49AeXj8VDb0Vs0Q02XnBK2AEc+1J0KL0\n",
       "HPgwJZ3JqLDM8fUSShZ37SP+WHROQcCNCyW3bOnKcpc7O6VBTI6Q5adpnWLvTcLL/SvcQJYB5eiT\n",
       "tb0CanpuzJlnKcyepvA6nPrgyCu5KiBOAFMeUkThMLdyJbip481VIzzFZd0odQAY5DFHpDaLZkXF\n",
       "b9iJvF/5NDw4Wf4ux0IPwGQXze5o2AAZhigb/Lbj2fMAAABTAZ57dEN/AB5dPLbLWKw2jMNbJ/8n\n",
       "gAvrNcVrk5JUqbsRL9rRjweFEMfdZhXgW47oPn14DsX10hHa15O8eXP7HIWpdbHt24E3PAENDYg+\n",
       "6HaCppkAAABYAZ59akN/AB5iiLdaNLLFp0j+guJcMABOyw8qQE8TDIQJdeyN3CAnv5rWVcNn5z6X\n",
       "EcrMazyLv5uzkjFcmLIJ63QRwlndVn1MMfy8no+KAF5hCz/ECKLPwAAAAl5BmmJJqEFsmUwIIf/+\n",
       "qlUAC7dB1gABxvnrpkQ868L4hzWjh9cw5+lVVgYJDqBuHdZM80OQb6wzyScC7kWpd/SxDYK9klwc\n",
       "4ugxA7gYHPLfEKKI7slCH2H0FuTVS1ENmyNhI7UIkilQeBIr9uUiQw4NgGhwriSzhh1O/Wlm8zXT\n",
       "OJ7vHIMfN3yI6g/lc956KRTLh4cHoch38OsgFM5VctPKi/xKq1xXmol+jGcIlSCWgrwnOfY2ngHq\n",
       "+6HOX9EPYvpbqtcwncN74bXJH+aRFoPoxqAblCuq9jOPe4IlLrHAQOuvyLyzo10du4C5CKzcwHS0\n",
       "k6XpDyyzvHmImqRM7ztnn3u3IYH+f++ZwoCRFIkpB7QALWala1rwWALDv93HaoOnw9hC/aGkAuh/\n",
       "2TDRTxmFbMTMMrEdvD7e7xsWDUhAprOgaN5QrjbIiSBB/UXQPQmFjcMZs0rXfM1h77YQLBxPbx4N\n",
       "QKr5igKF87CQZ82RtCcDTa23hJz1mflSLbUc2NXpxOYt6GTg2XrdcGvBR8YNDXmHf9kMdnowf4PR\n",
       "B5v7h/O7Fv+tECjMejf2Pq+6vbaMXuTN/06HspnWsrXrT3GCHCy2wzl8OqOV2FDWVLaU9Can09JT\n",
       "K8V8rWzO4Pv6SgQEHJgueB9NTafmR0i3JstYM76bBaI/S/0HoyZJKI5wlCfYNWdNTh8IUDMrpnY+\n",
       "isSoNOBvb7CVSXLiTF/asxp+TV2bCgG6w0Quj2lBVwf8AEm6KPOlYPH1C75QEPLv96wmJ4LHglLi\n",
       "YOYyNW7NhCgk1MmQ5sxo127Xas4T05UAAAEAQZ6ARRUsO/8AFmJ/QATo9UBnpZpzY6YD1jHN2YQJ\n",
       "vi6QlYMAxjQVqjTFfyR6vICkK629TnQ1R7qTrfOljzDUGU1NNBRTo4q+819LLKW4+7P4+OpZMHyu\n",
       "F4yWOz5KbLf1lfDa6AQyVw/535vWVmKgzq9JvUFz97SfKCEFRKFMITVFFma/qHsJ80W/x5T7sH+2\n",
       "uX/SE2pMdcsE7JjdhDFYJs35cp1nKPleNWklYxr6iFu6FQcVAMb5BQjO6uMJNk7sjtz/b4U+X+7C\n",
       "z6dw9a6DlGM9ZPArkzOGOdXCnHLLaEly8jOHUsufi+I/u1yAB1Pp4PsufkbgLGvQAaxO5hr55QAA\n",
       "AFABnr90Q38AILeHreoeKOJDDwB0s/amqwUU4ERJS8nAAdkgBOmMM6E3DyBe0kFUqK2f3soP0smb\n",
       "cjxanjDjQiQrpm0rjsWkGQACe4b808PZxgAAAEgBnqFqQ38AILGll9FHtj5zf9NhuBguZ9mPxpet\n",
       "bJnDCpKAEAuuHdfw4E0/as16e2UKpN8HA+J7pLC7ChzRU+YABs1n9HQPVfkAAAHDQZqmSahBbJlM\n",
       "CHf//qmWAC26+P+vNACc7JMiZrnK2M41l8M+KrSEWG1gGsLb+Aouuv3k6A64phYyr7NUrW+vBbIj\n",
       "DBRrHZnbfRuxrPXTKn1IqBRdes52o+yq9FojnaPSJi2S2KcH72YRxtUMAtcQFI2k8O3xA3b7PhAe\n",
       "YV7wQhO1YKrt+4iK4nuRPPGYY7z2eJywf9BTOIInJ3S8qJoQt9D8tnyVVr0iTxo/2KHmUEgcHs7W\n",
       "MgEQ6SSSFSTQ7T/qv0XFc6XH3RKkiuJt9lJtn+GlNTsElsiRNELNDkhWbe1Xct0JPrRLa+24Tgyl\n",
       "3roKDVoV0tB1s54KmPccRPGaPkXGOs+aMvOT6/CzPcIGS1DN1hkOVbOYusVyiJD/uErp8aV7OnWC\n",
       "LUz/EnSlrDJv5H3cGpJ2D3rZTnVgohDSEoVpAQrVCzz6GCili19IaL++McoGXihBLwm3aW+6nXww\n",
       "AXh2FQ8WchNSwSYF/MRFdHf4DfQhVZx2tim/GX4uUKVBDAqOY+WRRs2i3q2ZKsGvR395NmUWUDh9\n",
       "uJqljg1XUClB2YwyVgKgQ/WtMDmIJo+/9uLZbhKok/oX8q/k5FqIRZt5gAAAARVBnsRFFSw7/wAX\n",
       "dV9IuAC25vgHcST/5p2knJCSLzW5l/0jeNZQ4kpxNW+fjNaC0ecxSEMDueU/MmZmY8F6w5QcZaKo\n",
       "m1kqic7ahuwT6Wg6PSIqf5VMJBKQWr+SWiG20IxBfdCRhVL6wjOWW1DKx/hBRZfTqmO9QtwLx5ov\n",
       "S1bm5Yb0OgA5Hu54ihfTLXM6VsKG15hn0S657x4XI/g8AkWMf0tz2xot/el2T7dYvFqslVyVND4W\n",
       "ja50O21wxRK8RGTuUtHoc8HDxKUYvRLHgLmnH0rAT83I/1IaJvMSYsAWPEvQidFWMn2Llc7uLCE7\n",
       "lYCjqcAIDMFpHr9sCm4JTlkYOvoDLP5jXndiuWcAG/Nc3NjnTGh5AAAAPAGe43RDfwAgt4i9tlpH\n",
       "axpJnbZwo7k02cFzNI3Ll37IAL4xp09wsuCGus645tFOSe2+hR+izAAHqXAhoQAAAEsBnuVqQ38A\n",
       "ILkZTxPCQqM7agHdnECNpul9JgubxjgAdit+aIpYNOSuuhUxB2p7cBdwJG6mHx/OSal7+asrpf4y\n",
       "ReIt5AAVi0gPUeUAAADaQZrnSahBbJlMCG///qeEAFrD0ox6pAxrmAEEUlFOKeQ/+nNhGScCsW3x\n",
       "bkw9/xkUXsFLlRgb0dore9LiWQHhthMBAV+hTHaIILGtCRzw6SUjc98fH255IN8KuJ/N1rq+3ari\n",
       "2DHFAXa/E4mDOdZTQSaFhld0eH8gfi8erShxo8VEkhGB3n/uW8Gme7zDYROi2JqChI4s2pcgNcpQ\n",
       "/TdbEK+MweVB3sqQlQAbXrB1imbTYP71hvtXjLPcTUv37Lyz6GMIXA3F8j7C6d0254tsosfgSQJ3\n",
       "U7nBSD8AAATfbW9vdgAAAGxtdmhkAAAAAAAAAAAAAAAAAAAD6AAAD6AAAQAAAQAAAAAAAAAAAAAA\n",
       "AAEAAAAAAAAAAAAAAAAAAAABAAAAAAAAAAAAAAAAAABAAAAAAAAAAAAAAAAAAAAAAAAAAAAAAAAA\n",
       "AAAAAAAAAgAABAl0cmFrAAAAXHRraGQAAAADAAAAAAAAAAAAAAABAAAAAAAAD6AAAAAAAAAAAAAA\n",
       "AAAAAAAAAAEAAAAAAAAAAAAAAAAAAAABAAAAAAAAAAAAAAAAAABAAAAAAfQAAAGQAAAAAAAkZWR0\n",
       "cwAAABxlbHN0AAAAAAAAAAEAAA+gAAAIAAABAAAAAAOBbWRpYQAAACBtZGhkAAAAAAAAAAAAAAAA\n",
       "AAAoAAAAoABVxAAAAAAALWhkbHIAAAAAAAAAAHZpZGUAAAAAAAAAAAAAAABWaWRlb0hhbmRsZXIA\n",
       "AAADLG1pbmYAAAAUdm1oZAAAAAEAAAAAAAAAAAAAACRkaW5mAAAAHGRyZWYAAAAAAAAAAQAAAAx1\n",
       "cmwgAAAAAQAAAuxzdGJsAAAAtHN0c2QAAAAAAAAAAQAAAKRhdmMxAAAAAAAAAAEAAAAAAAAAAAAA\n",
       "AAAAAAAAAfQBkABIAAAASAAAAAAAAAABAAAAAAAAAAAAAAAAAAAAAAAAAAAAAAAAAAAAAAAAAAAA\n",
       "GP//AAAAMmF2Y0MBZAAW/+EAGWdkABas2UCAM+fhAAADAAEAAAMAFA8WLZYBAAZo6+PLIsAAAAAc\n",
       "dXVpZGtoQPJfJE/FujmlG88DI/MAAAAAAAAAGHN0dHMAAAAAAAAAAQAAACgAAAQAAAAAFHN0c3MA\n",
       "AAAAAAAAAQAAAAEAAAEgY3R0cwAAAAAAAAAiAAAABwAACAAAAAABAAAUAAAAAAEAAAgAAAAAAQAA\n",
       "AAAAAAABAAAEAAAAAAEAABQAAAAAAQAACAAAAAABAAAAAAAAAAEAAAQAAAAAAQAAFAAAAAABAAAI\n",
       "AAAAAAEAAAAAAAAAAQAABAAAAAABAAAUAAAAAAEAAAgAAAAAAQAAAAAAAAABAAAEAAAAAAEAABQA\n",
       "AAAAAQAACAAAAAABAAAAAAAAAAEAAAQAAAAAAQAAFAAAAAABAAAIAAAAAAEAAAAAAAAAAQAABAAA\n",
       "AAABAAAUAAAAAAEAAAgAAAAAAQAAAAAAAAABAAAEAAAAAAEAABQAAAAAAQAACAAAAAABAAAAAAAA\n",
       "AAEAAAQAAAAAAQAACAAAAAAcc3RzYwAAAAAAAAABAAAAAQAAACgAAAABAAAAtHN0c3oAAAAAAAAA\n",
       "AAAAACgAABmkAAAGIgAABjAAAAQ8AAACuwAAAvsAAAJ1AAAEdgAAAnIAAAFRAAABewAABRQAAAJa\n",
       "AAABuwAAAdsAAASoAAACJwAAAbcAAAEeAAAEFQAAATUAAAERAAAA1QAAApsAAAECAAAAjwAAAGsA\n",
       "AALvAAAA7gAAAFcAAABcAAACYgAAAQQAAABUAAAATAAAAccAAAEZAAAAQAAAAE8AAADeAAAAFHN0\n",
       "Y28AAAAAAAAAAQAAACwAAABidWR0YQAAAFptZXRhAAAAAAAAACFoZGxyAAAAAAAAAABtZGlyYXBw\n",
       "bAAAAAAAAAAAAAAAAC1pbHN0AAAAJal0b28AAAAdZGF0YQAAAAEAAAAATGF2ZjU2LjQwLjEwMQ==\n",
       "\">\n",
       "  Your browser does not support the video tag.\n",
       "</video>"
      ],
      "text/plain": [
       "<matplotlib.animation.FuncAnimation at 0x7f494ac7e590>"
      ]
     },
     "execution_count": 16,
     "metadata": {},
     "output_type": "execute_result"
    }
   ],
   "source": [
    "ani = animation.FuncAnimation(fig, animate, np.arange(0, 40), interval=100)\n",
    "ani"
   ]
  },
  {
   "cell_type": "markdown",
   "metadata": {},
   "source": [
    "#### Linear Models in Keras"
   ]
  },
  {
   "cell_type": "code",
   "execution_count": 17,
   "metadata": {},
   "outputs": [
    {
     "name": "stderr",
     "output_type": "stream",
     "text": [
      "Using Theano backend.\n",
      "Using gpu device 0: Tesla K80 (CNMeM is disabled, cuDNN 5103)\n",
      "/home/ubuntu/anaconda2/lib/python2.7/site-packages/theano/sandbox/cuda/__init__.py:600: UserWarning: Your cuDNN version is more recent than the one Theano officially supports. If you see any problems, try updating Theano or downgrading cuDNN to version 5.\n",
      "  warnings.warn(warn)\n"
     ]
    }
   ],
   "source": [
    "import numpy as np\n",
    "from numpy.random import random\n",
    "from keras.models import Sequential\n",
    "from keras.layers.core import Dense\n",
    "from keras.optimizers import SGD,RMSprop"
   ]
  },
  {
   "cell_type": "code",
   "execution_count": 18,
   "metadata": {
    "collapsed": true
   },
   "outputs": [],
   "source": [
    "x = random((30,2))"
   ]
  },
  {
   "cell_type": "code",
   "execution_count": 19,
   "metadata": {},
   "outputs": [
    {
     "data": {
      "text/plain": [
       "array([[ 0.3468,  0.706 ],\n",
       "       [ 0.784 ,  0.6711],\n",
       "       [ 0.8174,  0.9288],\n",
       "       [ 0.346 ,  0.1118],\n",
       "       [ 0.2181,  0.2667]])"
      ]
     },
     "execution_count": 19,
     "metadata": {},
     "output_type": "execute_result"
    }
   ],
   "source": [
    "x[:5]"
   ]
  },
  {
   "cell_type": "code",
   "execution_count": 20,
   "metadata": {},
   "outputs": [
    {
     "data": {
      "text/plain": [
       "array([ 3.8116,  4.5815,  5.4212,  2.0273,  2.2362])"
      ]
     },
     "execution_count": 20,
     "metadata": {},
     "output_type": "execute_result"
    }
   ],
   "source": [
    "y = np.dot(x,[2,3]) + 1\n",
    "y[:5]"
   ]
  },
  {
   "cell_type": "code",
   "execution_count": 21,
   "metadata": {
    "collapsed": true
   },
   "outputs": [],
   "source": [
    "lm = Sequential([Dense(1, input_shape=(2,))])\n",
    "lm.compile(optimizer=SGD(lr=0.1),loss='mse')"
   ]
  },
  {
   "cell_type": "code",
   "execution_count": 22,
   "metadata": {},
   "outputs": [
    {
     "name": "stdout",
     "output_type": "stream",
     "text": [
      "30/30 [==============================] - 0s\n"
     ]
    },
    {
     "data": {
      "text/plain": [
       "22.8617"
      ]
     },
     "execution_count": 22,
     "metadata": {},
     "output_type": "execute_result"
    }
   ],
   "source": [
    "lm.evaluate(x,y)"
   ]
  },
  {
   "cell_type": "code",
   "execution_count": 23,
   "metadata": {},
   "outputs": [
    {
     "name": "stdout",
     "output_type": "stream",
     "text": [
      "Epoch 1/5\n",
      "30/30 [==============================] - 0s - loss: 22.8617\n",
      "Epoch 2/5\n",
      "30/30 [==============================] - 0s - loss: 10.7517\n",
      "Epoch 3/5\n",
      "30/30 [==============================] - 0s - loss: 5.2226\n",
      "Epoch 4/5\n",
      "30/30 [==============================] - 0s - loss: 2.6938\n",
      "Epoch 5/5\n",
      "30/30 [==============================] - 0s - loss: 1.5328\n"
     ]
    },
    {
     "data": {
      "text/plain": [
       "<keras.callbacks.History at 0x7f4930357510>"
      ]
     },
     "execution_count": 23,
     "metadata": {},
     "output_type": "execute_result"
    }
   ],
   "source": [
    "lm.fit(x,y,nb_epoch=5)"
   ]
  },
  {
   "cell_type": "code",
   "execution_count": 24,
   "metadata": {},
   "outputs": [
    {
     "name": "stdout",
     "output_type": "stream",
     "text": [
      "30/30 [==============================] - 0s\n"
     ]
    },
    {
     "data": {
      "text/plain": [
       "0.9956"
      ]
     },
     "execution_count": 24,
     "metadata": {},
     "output_type": "execute_result"
    }
   ],
   "source": [
    "lm.evaluate(x,y)"
   ]
  },
  {
   "cell_type": "code",
   "execution_count": 25,
   "metadata": {},
   "outputs": [
    {
     "data": {
      "text/plain": [
       "[array([[ 0.6673],\n",
       "        [ 0.7218]], dtype=float32), array([ 2.346], dtype=float32)]"
      ]
     },
     "execution_count": 25,
     "metadata": {},
     "output_type": "execute_result"
    }
   ],
   "source": [
    "lm.get_weights()"
   ]
  },
  {
   "cell_type": "code",
   "execution_count": 26,
   "metadata": {},
   "outputs": [],
   "source": [
    "path = '../data/redux/'\n",
    "# path = '../data/redux/sample/'\n",
    "model_path = path + 'models/'"
   ]
  },
  {
   "cell_type": "code",
   "execution_count": 27,
   "metadata": {
    "collapsed": true
   },
   "outputs": [],
   "source": [
    "# batch_size = 4\n",
    "batch_size = 64"
   ]
  },
  {
   "cell_type": "code",
   "execution_count": 28,
   "metadata": {
    "collapsed": true
   },
   "outputs": [],
   "source": [
    "import os\n",
    "if not os.path.exists(model_path): os.mkdir(model_path)"
   ]
  },
  {
   "cell_type": "code",
   "execution_count": 29,
   "metadata": {
    "collapsed": true
   },
   "outputs": [],
   "source": [
    "import utils; reload(utils)\n",
    "from utils import *\n",
    "\n",
    "import vgg16; reload(vgg16)\n",
    "from vgg16 import Vgg16"
   ]
  },
  {
   "cell_type": "code",
   "execution_count": 30,
   "metadata": {
    "collapsed": true
   },
   "outputs": [],
   "source": [
    "vgg = Vgg16()\n",
    "model = vgg.model"
   ]
  },
  {
   "cell_type": "code",
   "execution_count": 31,
   "metadata": {},
   "outputs": [
    {
     "name": "stdout",
     "output_type": "stream",
     "text": [
      "Found 23000 images belonging to 2 classes.\n",
      "Found 2000 images belonging to 2 classes.\n"
     ]
    }
   ],
   "source": [
    "batches = get_batches(path+'train',batch_size=batch_size)\n",
    "val_batches = get_batches(path+'valid',batch_size=batch_size)"
   ]
  },
  {
   "cell_type": "code",
   "execution_count": 32,
   "metadata": {},
   "outputs": [],
   "source": [
    "# trn_data = get_data(path+'train')\n",
    "# val_data = get_data(path+'valid')"
   ]
  },
  {
   "cell_type": "code",
   "execution_count": 33,
   "metadata": {},
   "outputs": [],
   "source": [
    "# save_array(model_path+'train_data.bc',trn_data)\n",
    "# save_array(model_path+'val_data.bc',val_data)"
   ]
  },
  {
   "cell_type": "code",
   "execution_count": 34,
   "metadata": {},
   "outputs": [],
   "source": [
    "trn_data = load_array(model_path+'train_data.bc')\n",
    "val_data = load_array(model_path+'val_data.bc')"
   ]
  },
  {
   "cell_type": "code",
   "execution_count": 35,
   "metadata": {},
   "outputs": [
    {
     "data": {
      "text/plain": [
       "(23000, 3, 224, 224)"
      ]
     },
     "execution_count": 35,
     "metadata": {},
     "output_type": "execute_result"
    }
   ],
   "source": [
    "trn_data.shape"
   ]
  },
  {
   "cell_type": "code",
   "execution_count": 36,
   "metadata": {},
   "outputs": [],
   "source": [
    "train_classes = batches.classes\n",
    "val_classes = val_batches.classes\n",
    "train_labels = onehot(train_classes)\n",
    "val_labels = onehot(val_classes)"
   ]
  },
  {
   "cell_type": "code",
   "execution_count": 37,
   "metadata": {},
   "outputs": [
    {
     "name": "stdout",
     "output_type": "stream",
     "text": [
      "[0 0 0 0]\n",
      "[[ 1.  0.]\n",
      " [ 1.  0.]\n",
      " [ 1.  0.]\n",
      " [ 1.  0.]]\n"
     ]
    }
   ],
   "source": [
    "print train_classes[:4]\n",
    "print train_labels[:4]"
   ]
  },
  {
   "cell_type": "code",
   "execution_count": 40,
   "metadata": {},
   "outputs": [],
   "source": [
    "# train_features = model.predict(trn_data,batch_size=batch_size)\n",
    "# val_features = model.predict(val_data,batch_size=batch_size)"
   ]
  },
  {
   "cell_type": "code",
   "execution_count": 42,
   "metadata": {},
   "outputs": [],
   "source": [
    "# save_array(model_path+'train_features.dat',train_features)\n",
    "# save_array(model_path+'val_features.dat',val_features)"
   ]
  },
  {
   "cell_type": "code",
   "execution_count": 47,
   "metadata": {
    "collapsed": true
   },
   "outputs": [],
   "source": [
    "train_features = load_array(model_path+'train_features.dat')\n",
    "val_features = load_array(model_path+'val_features.dat')"
   ]
  },
  {
   "cell_type": "code",
   "execution_count": 48,
   "metadata": {},
   "outputs": [
    {
     "data": {
      "text/plain": [
       "(23000, 1000)"
      ]
     },
     "execution_count": 48,
     "metadata": {},
     "output_type": "execute_result"
    }
   ],
   "source": [
    "train_features.shape"
   ]
  },
  {
   "cell_type": "code",
   "execution_count": 44,
   "metadata": {
    "collapsed": true
   },
   "outputs": [],
   "source": [
    "lm = Sequential([Dense(2, activation='softmax', input_shape=(1000,))])\n",
    "lm.compile(RMSprop(lr=0.1),loss='categorical_crossentropy',metrics=['accuracy'])"
   ]
  },
  {
   "cell_type": "code",
   "execution_count": 45,
   "metadata": {},
   "outputs": [
    {
     "name": "stdout",
     "output_type": "stream",
     "text": [
      "Train on 23000 samples, validate on 2000 samples\n",
      "Epoch 1/3\n",
      "23000/23000 [==============================] - 1s - loss: 0.0962 - acc: 0.9692 - val_loss: 0.1007 - val_acc: 0.9685\n",
      "Epoch 2/3\n",
      "23000/23000 [==============================] - 1s - loss: 0.0886 - acc: 0.9748 - val_loss: 0.1110 - val_acc: 0.9705\n",
      "Epoch 3/3\n",
      "23000/23000 [==============================] - 1s - loss: 0.0913 - acc: 0.9767 - val_loss: 0.1215 - val_acc: 0.9710\n"
     ]
    },
    {
     "data": {
      "text/plain": [
       "<keras.callbacks.History at 0x7f42155fdad0>"
      ]
     },
     "execution_count": 45,
     "metadata": {},
     "output_type": "execute_result"
    }
   ],
   "source": [
    "lm.fit(train_features,train_labels,nb_epoch=3,validation_data=(val_features, val_labels))"
   ]
  },
  {
   "cell_type": "code",
   "execution_count": 46,
   "metadata": {},
   "outputs": [
    {
     "name": "stdout",
     "output_type": "stream",
     "text": [
      "____________________________________________________________________________________________________\n",
      "Layer (type)                     Output Shape          Param #     Connected to                     \n",
      "====================================================================================================\n",
      "dense_5 (Dense)                  (None, 2)             2002        dense_input_2[0][0]              \n",
      "====================================================================================================\n",
      "Total params: 2002\n",
      "____________________________________________________________________________________________________\n"
     ]
    }
   ],
   "source": [
    "lm.summary()"
   ]
  }
 ],
 "metadata": {
  "anaconda-cloud": {},
  "kernelspec": {
   "display_name": "Python 2",
   "language": "python",
   "name": "python2"
  },
  "language_info": {
   "codemirror_mode": {
    "name": "ipython",
    "version": 2
   },
   "file_extension": ".py",
   "mimetype": "text/x-python",
   "name": "python",
   "nbconvert_exporter": "python",
   "pygments_lexer": "ipython2",
   "version": "2.7.12+"
  }
 },
 "nbformat": 4,
 "nbformat_minor": 2
}
